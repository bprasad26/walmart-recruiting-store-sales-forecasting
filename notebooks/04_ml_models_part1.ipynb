{
 "cells": [
  {
   "cell_type": "code",
   "execution_count": 1,
   "id": "daily-newspaper",
   "metadata": {},
   "outputs": [
    {
     "data": {
      "application/javascript": [
       "\n",
       "            setTimeout(function() {\n",
       "                var nbb_cell_id = 1;\n",
       "                var nbb_unformatted_code = \"# import libraries\\nimport os\\nimport pandas as pd\\nimport numpy as np\\nimport plotly.graph_objects as go\\nimport plotly.express as px\\nimport matplotlib.pyplot as plt\\nimport seaborn as sns \\n\\n# for making the output constant across all run\\nnp.random.seed(42)\\n\\n# display settings & code formatting\\npd.options.display.max_columns = 999\\n%matplotlib inline\\n%load_ext nb_black\\n\\n# project paths\\nproject_root_dir = os.path.normpath(os.getcwd() + os.sep + os.pardir)\\n\\ndata_path = os.path.join(project_root_dir, \\\"data\\\")\\nos.makedirs(data_path, exist_ok=True)\\n\\n# function for loading data\\ndef load_data(filename, date_col=None, data_path=data_path):\\n    csv_path = os.path.join(data_path, filename)\\n    return pd.read_csv(csv_path, parse_dates=date_col)\\n\\n# function for saving data as csv file\\ndef save_dataframe(df, filename, file_path=data_path):\\n    path = os.path.join(file_path, filename)\\n    df.to_csv(path, index=False)\";\n",
       "                var nbb_formatted_code = \"# import libraries\\nimport os\\nimport pandas as pd\\nimport numpy as np\\nimport plotly.graph_objects as go\\nimport plotly.express as px\\nimport matplotlib.pyplot as plt\\nimport seaborn as sns\\n\\n# for making the output constant across all run\\nnp.random.seed(42)\\n\\n# display settings & code formatting\\npd.options.display.max_columns = 999\\n%matplotlib inline\\n%load_ext nb_black\\n\\n# project paths\\nproject_root_dir = os.path.normpath(os.getcwd() + os.sep + os.pardir)\\n\\ndata_path = os.path.join(project_root_dir, \\\"data\\\")\\nos.makedirs(data_path, exist_ok=True)\\n\\n# function for loading data\\ndef load_data(filename, date_col=None, data_path=data_path):\\n    csv_path = os.path.join(data_path, filename)\\n    return pd.read_csv(csv_path, parse_dates=date_col)\\n\\n\\n# function for saving data as csv file\\ndef save_dataframe(df, filename, file_path=data_path):\\n    path = os.path.join(file_path, filename)\\n    df.to_csv(path, index=False)\";\n",
       "                var nbb_cells = Jupyter.notebook.get_cells();\n",
       "                for (var i = 0; i < nbb_cells.length; ++i) {\n",
       "                    if (nbb_cells[i].input_prompt_number == nbb_cell_id) {\n",
       "                        if (nbb_cells[i].get_text() == nbb_unformatted_code) {\n",
       "                             nbb_cells[i].set_text(nbb_formatted_code);\n",
       "                        }\n",
       "                        break;\n",
       "                    }\n",
       "                }\n",
       "            }, 500);\n",
       "            "
      ],
      "text/plain": [
       "<IPython.core.display.Javascript object>"
      ]
     },
     "metadata": {},
     "output_type": "display_data"
    }
   ],
   "source": [
    "# import libraries\n",
    "import os\n",
    "import pandas as pd\n",
    "import numpy as np\n",
    "import plotly.graph_objects as go\n",
    "import plotly.express as px\n",
    "import matplotlib.pyplot as plt\n",
    "import seaborn as sns \n",
    "\n",
    "# for making the output constant across all run\n",
    "np.random.seed(42)\n",
    "\n",
    "# display settings & code formatting\n",
    "pd.options.display.max_columns = 999\n",
    "%matplotlib inline\n",
    "%load_ext nb_black\n",
    "\n",
    "# project paths\n",
    "project_root_dir = os.path.normpath(os.getcwd() + os.sep + os.pardir)\n",
    "\n",
    "data_path = os.path.join(project_root_dir, \"data\")\n",
    "os.makedirs(data_path, exist_ok=True)\n",
    "\n",
    "# function for loading data\n",
    "def load_data(filename, date_col=None, data_path=data_path):\n",
    "    csv_path = os.path.join(data_path, filename)\n",
    "    return pd.read_csv(csv_path, parse_dates=date_col)\n",
    "\n",
    "# function for saving data as csv file\n",
    "def save_dataframe(df, filename, file_path=data_path):\n",
    "    path = os.path.join(file_path, filename)\n",
    "    df.to_csv(path, index=False)\n"
   ]
  },
  {
   "cell_type": "code",
   "execution_count": 2,
   "id": "hourly-tonight",
   "metadata": {},
   "outputs": [
    {
     "data": {
      "application/javascript": [
       "\n",
       "            setTimeout(function() {\n",
       "                var nbb_cell_id = 2;\n",
       "                var nbb_unformatted_code = \"train = load_data(\\\"train.csv\\\", date_col=[\\\"Date\\\"])\\ntest = load_data(\\\"test.csv\\\", date_col=[\\\"Date\\\"])\\nstores = load_data(\\\"stores.csv\\\")\\nfeatures = load_data(\\\"features.csv\\\", date_col=[\\\"Date\\\"])\\nsample_submission = load_data(\\\"sampleSubmission.csv\\\")\";\n",
       "                var nbb_formatted_code = \"train = load_data(\\\"train.csv\\\", date_col=[\\\"Date\\\"])\\ntest = load_data(\\\"test.csv\\\", date_col=[\\\"Date\\\"])\\nstores = load_data(\\\"stores.csv\\\")\\nfeatures = load_data(\\\"features.csv\\\", date_col=[\\\"Date\\\"])\\nsample_submission = load_data(\\\"sampleSubmission.csv\\\")\";\n",
       "                var nbb_cells = Jupyter.notebook.get_cells();\n",
       "                for (var i = 0; i < nbb_cells.length; ++i) {\n",
       "                    if (nbb_cells[i].input_prompt_number == nbb_cell_id) {\n",
       "                        if (nbb_cells[i].get_text() == nbb_unformatted_code) {\n",
       "                             nbb_cells[i].set_text(nbb_formatted_code);\n",
       "                        }\n",
       "                        break;\n",
       "                    }\n",
       "                }\n",
       "            }, 500);\n",
       "            "
      ],
      "text/plain": [
       "<IPython.core.display.Javascript object>"
      ]
     },
     "metadata": {},
     "output_type": "display_data"
    }
   ],
   "source": [
    "train = load_data(\"train.csv\", date_col=[\"Date\"])\n",
    "test = load_data(\"test.csv\", date_col=[\"Date\"])\n",
    "stores = load_data(\"stores.csv\")\n",
    "features = load_data(\"features.csv\", date_col=[\"Date\"])\n",
    "sample_submission = load_data(\"sampleSubmission.csv\")"
   ]
  },
  {
   "cell_type": "code",
   "execution_count": 3,
   "id": "tested-catholic",
   "metadata": {},
   "outputs": [
    {
     "name": "stdout",
     "output_type": "stream",
     "text": [
      "<class 'pandas.core.frame.DataFrame'>\n",
      "RangeIndex: 421570 entries, 0 to 421569\n",
      "Data columns (total 5 columns):\n",
      " #   Column        Non-Null Count   Dtype         \n",
      "---  ------        --------------   -----         \n",
      " 0   Store         421570 non-null  int64         \n",
      " 1   Dept          421570 non-null  int64         \n",
      " 2   Date          421570 non-null  datetime64[ns]\n",
      " 3   Weekly_Sales  421570 non-null  float64       \n",
      " 4   IsHoliday     421570 non-null  bool          \n",
      "dtypes: bool(1), datetime64[ns](1), float64(1), int64(2)\n",
      "memory usage: 13.3 MB\n"
     ]
    },
    {
     "data": {
      "application/javascript": [
       "\n",
       "            setTimeout(function() {\n",
       "                var nbb_cell_id = 3;\n",
       "                var nbb_unformatted_code = \"train.info()\";\n",
       "                var nbb_formatted_code = \"train.info()\";\n",
       "                var nbb_cells = Jupyter.notebook.get_cells();\n",
       "                for (var i = 0; i < nbb_cells.length; ++i) {\n",
       "                    if (nbb_cells[i].input_prompt_number == nbb_cell_id) {\n",
       "                        if (nbb_cells[i].get_text() == nbb_unformatted_code) {\n",
       "                             nbb_cells[i].set_text(nbb_formatted_code);\n",
       "                        }\n",
       "                        break;\n",
       "                    }\n",
       "                }\n",
       "            }, 500);\n",
       "            "
      ],
      "text/plain": [
       "<IPython.core.display.Javascript object>"
      ]
     },
     "metadata": {},
     "output_type": "display_data"
    }
   ],
   "source": [
    "train.info()"
   ]
  },
  {
   "cell_type": "code",
   "execution_count": 4,
   "id": "royal-syndication",
   "metadata": {},
   "outputs": [
    {
     "data": {
      "text/html": [
       "<div>\n",
       "<style scoped>\n",
       "    .dataframe tbody tr th:only-of-type {\n",
       "        vertical-align: middle;\n",
       "    }\n",
       "\n",
       "    .dataframe tbody tr th {\n",
       "        vertical-align: top;\n",
       "    }\n",
       "\n",
       "    .dataframe thead th {\n",
       "        text-align: right;\n",
       "    }\n",
       "</style>\n",
       "<table border=\"1\" class=\"dataframe\">\n",
       "  <thead>\n",
       "    <tr style=\"text-align: right;\">\n",
       "      <th></th>\n",
       "      <th>Store</th>\n",
       "      <th>Dept</th>\n",
       "      <th>Date</th>\n",
       "      <th>Weekly_Sales</th>\n",
       "      <th>IsHoliday</th>\n",
       "    </tr>\n",
       "  </thead>\n",
       "  <tbody>\n",
       "    <tr>\n",
       "      <th>0</th>\n",
       "      <td>1</td>\n",
       "      <td>1</td>\n",
       "      <td>2010-02-05</td>\n",
       "      <td>24924.50</td>\n",
       "      <td>False</td>\n",
       "    </tr>\n",
       "    <tr>\n",
       "      <th>1</th>\n",
       "      <td>1</td>\n",
       "      <td>1</td>\n",
       "      <td>2010-02-12</td>\n",
       "      <td>46039.49</td>\n",
       "      <td>True</td>\n",
       "    </tr>\n",
       "    <tr>\n",
       "      <th>2</th>\n",
       "      <td>1</td>\n",
       "      <td>1</td>\n",
       "      <td>2010-02-19</td>\n",
       "      <td>41595.55</td>\n",
       "      <td>False</td>\n",
       "    </tr>\n",
       "    <tr>\n",
       "      <th>3</th>\n",
       "      <td>1</td>\n",
       "      <td>1</td>\n",
       "      <td>2010-02-26</td>\n",
       "      <td>19403.54</td>\n",
       "      <td>False</td>\n",
       "    </tr>\n",
       "    <tr>\n",
       "      <th>4</th>\n",
       "      <td>1</td>\n",
       "      <td>1</td>\n",
       "      <td>2010-03-05</td>\n",
       "      <td>21827.90</td>\n",
       "      <td>False</td>\n",
       "    </tr>\n",
       "  </tbody>\n",
       "</table>\n",
       "</div>"
      ],
      "text/plain": [
       "   Store  Dept       Date  Weekly_Sales  IsHoliday\n",
       "0      1     1 2010-02-05      24924.50      False\n",
       "1      1     1 2010-02-12      46039.49       True\n",
       "2      1     1 2010-02-19      41595.55      False\n",
       "3      1     1 2010-02-26      19403.54      False\n",
       "4      1     1 2010-03-05      21827.90      False"
      ]
     },
     "execution_count": 4,
     "metadata": {},
     "output_type": "execute_result"
    },
    {
     "data": {
      "application/javascript": [
       "\n",
       "            setTimeout(function() {\n",
       "                var nbb_cell_id = 4;\n",
       "                var nbb_unformatted_code = \"train.head()\";\n",
       "                var nbb_formatted_code = \"train.head()\";\n",
       "                var nbb_cells = Jupyter.notebook.get_cells();\n",
       "                for (var i = 0; i < nbb_cells.length; ++i) {\n",
       "                    if (nbb_cells[i].input_prompt_number == nbb_cell_id) {\n",
       "                        if (nbb_cells[i].get_text() == nbb_unformatted_code) {\n",
       "                             nbb_cells[i].set_text(nbb_formatted_code);\n",
       "                        }\n",
       "                        break;\n",
       "                    }\n",
       "                }\n",
       "            }, 500);\n",
       "            "
      ],
      "text/plain": [
       "<IPython.core.display.Javascript object>"
      ]
     },
     "metadata": {},
     "output_type": "display_data"
    }
   ],
   "source": [
    "train.head()"
   ]
  },
  {
   "cell_type": "code",
   "execution_count": 5,
   "id": "former-focus",
   "metadata": {},
   "outputs": [
    {
     "data": {
      "text/plain": [
       "(421570, 5)"
      ]
     },
     "execution_count": 5,
     "metadata": {},
     "output_type": "execute_result"
    },
    {
     "data": {
      "application/javascript": [
       "\n",
       "            setTimeout(function() {\n",
       "                var nbb_cell_id = 5;\n",
       "                var nbb_unformatted_code = \"train.shape\";\n",
       "                var nbb_formatted_code = \"train.shape\";\n",
       "                var nbb_cells = Jupyter.notebook.get_cells();\n",
       "                for (var i = 0; i < nbb_cells.length; ++i) {\n",
       "                    if (nbb_cells[i].input_prompt_number == nbb_cell_id) {\n",
       "                        if (nbb_cells[i].get_text() == nbb_unformatted_code) {\n",
       "                             nbb_cells[i].set_text(nbb_formatted_code);\n",
       "                        }\n",
       "                        break;\n",
       "                    }\n",
       "                }\n",
       "            }, 500);\n",
       "            "
      ],
      "text/plain": [
       "<IPython.core.display.Javascript object>"
      ]
     },
     "metadata": {},
     "output_type": "display_data"
    }
   ],
   "source": [
    "train.shape"
   ]
  },
  {
   "cell_type": "code",
   "execution_count": 6,
   "id": "adjusted-graduation",
   "metadata": {},
   "outputs": [
    {
     "data": {
      "text/plain": [
       "(115064, 4)"
      ]
     },
     "execution_count": 6,
     "metadata": {},
     "output_type": "execute_result"
    },
    {
     "data": {
      "application/javascript": [
       "\n",
       "            setTimeout(function() {\n",
       "                var nbb_cell_id = 6;\n",
       "                var nbb_unformatted_code = \"test.shape\";\n",
       "                var nbb_formatted_code = \"test.shape\";\n",
       "                var nbb_cells = Jupyter.notebook.get_cells();\n",
       "                for (var i = 0; i < nbb_cells.length; ++i) {\n",
       "                    if (nbb_cells[i].input_prompt_number == nbb_cell_id) {\n",
       "                        if (nbb_cells[i].get_text() == nbb_unformatted_code) {\n",
       "                             nbb_cells[i].set_text(nbb_formatted_code);\n",
       "                        }\n",
       "                        break;\n",
       "                    }\n",
       "                }\n",
       "            }, 500);\n",
       "            "
      ],
      "text/plain": [
       "<IPython.core.display.Javascript object>"
      ]
     },
     "metadata": {},
     "output_type": "display_data"
    }
   ],
   "source": [
    "test.shape"
   ]
  },
  {
   "cell_type": "markdown",
   "id": "supreme-audit",
   "metadata": {},
   "source": [
    "## Merge Data"
   ]
  },
  {
   "cell_type": "code",
   "execution_count": 7,
   "id": "nonprofit-friendly",
   "metadata": {},
   "outputs": [
    {
     "data": {
      "application/javascript": [
       "\n",
       "            setTimeout(function() {\n",
       "                var nbb_cell_id = 7;\n",
       "                var nbb_unformatted_code = \"# Merge the stores data with train and test\\ntrain = pd.merge(train, stores, how=\\\"left\\\", on=\\\"Store\\\")\\ntest = pd.merge(test, stores, how=\\\"left\\\", on=\\\"Store\\\")\\n\\n# Merge the features data with train and test\\ntrain = pd.merge(train, features, how=\\\"left\\\", on=[\\\"Store\\\", \\\"Date\\\"])\\ntest = pd.merge(test, features, how=\\\"left\\\", on=[\\\"Store\\\", \\\"Date\\\"])\";\n",
       "                var nbb_formatted_code = \"# Merge the stores data with train and test\\ntrain = pd.merge(train, stores, how=\\\"left\\\", on=\\\"Store\\\")\\ntest = pd.merge(test, stores, how=\\\"left\\\", on=\\\"Store\\\")\\n\\n# Merge the features data with train and test\\ntrain = pd.merge(train, features, how=\\\"left\\\", on=[\\\"Store\\\", \\\"Date\\\"])\\ntest = pd.merge(test, features, how=\\\"left\\\", on=[\\\"Store\\\", \\\"Date\\\"])\";\n",
       "                var nbb_cells = Jupyter.notebook.get_cells();\n",
       "                for (var i = 0; i < nbb_cells.length; ++i) {\n",
       "                    if (nbb_cells[i].input_prompt_number == nbb_cell_id) {\n",
       "                        if (nbb_cells[i].get_text() == nbb_unformatted_code) {\n",
       "                             nbb_cells[i].set_text(nbb_formatted_code);\n",
       "                        }\n",
       "                        break;\n",
       "                    }\n",
       "                }\n",
       "            }, 500);\n",
       "            "
      ],
      "text/plain": [
       "<IPython.core.display.Javascript object>"
      ]
     },
     "metadata": {},
     "output_type": "display_data"
    }
   ],
   "source": [
    "# Merge the stores data with train and test\n",
    "train = pd.merge(train, stores, how=\"left\", on=\"Store\")\n",
    "test = pd.merge(test, stores, how=\"left\", on=\"Store\")\n",
    "\n",
    "# Merge the features data with train and test\n",
    "train = pd.merge(train, features, how=\"left\", on=[\"Store\", \"Date\"])\n",
    "test = pd.merge(test, features, how=\"left\", on=[\"Store\", \"Date\"])"
   ]
  },
  {
   "cell_type": "code",
   "execution_count": 8,
   "id": "conditional-puppy",
   "metadata": {},
   "outputs": [
    {
     "data": {
      "text/plain": [
       "Store            0.000000\n",
       "Dept             0.000000\n",
       "Date             0.000000\n",
       "Weekly_Sales     0.000000\n",
       "IsHoliday_x      0.000000\n",
       "Type             0.000000\n",
       "Size             0.000000\n",
       "Temperature      0.000000\n",
       "Fuel_Price       0.000000\n",
       "MarkDown1       64.257181\n",
       "MarkDown2       73.611025\n",
       "MarkDown3       67.480845\n",
       "MarkDown4       67.984676\n",
       "MarkDown5       64.079038\n",
       "CPI              0.000000\n",
       "Unemployment     0.000000\n",
       "IsHoliday_y      0.000000\n",
       "dtype: float64"
      ]
     },
     "execution_count": 8,
     "metadata": {},
     "output_type": "execute_result"
    },
    {
     "data": {
      "application/javascript": [
       "\n",
       "            setTimeout(function() {\n",
       "                var nbb_cell_id = 8;\n",
       "                var nbb_unformatted_code = \"train.isnull().sum() / len(train) * 100\";\n",
       "                var nbb_formatted_code = \"train.isnull().sum() / len(train) * 100\";\n",
       "                var nbb_cells = Jupyter.notebook.get_cells();\n",
       "                for (var i = 0; i < nbb_cells.length; ++i) {\n",
       "                    if (nbb_cells[i].input_prompt_number == nbb_cell_id) {\n",
       "                        if (nbb_cells[i].get_text() == nbb_unformatted_code) {\n",
       "                             nbb_cells[i].set_text(nbb_formatted_code);\n",
       "                        }\n",
       "                        break;\n",
       "                    }\n",
       "                }\n",
       "            }, 500);\n",
       "            "
      ],
      "text/plain": [
       "<IPython.core.display.Javascript object>"
      ]
     },
     "metadata": {},
     "output_type": "display_data"
    }
   ],
   "source": [
    "train.isnull().sum() / len(train) * 100"
   ]
  },
  {
   "cell_type": "code",
   "execution_count": 9,
   "id": "asian-threat",
   "metadata": {},
   "outputs": [
    {
     "data": {
      "text/plain": [
       "Store            0.000000\n",
       "Dept             0.000000\n",
       "Date             0.000000\n",
       "IsHoliday_x      0.000000\n",
       "Type             0.000000\n",
       "Size             0.000000\n",
       "Temperature      0.000000\n",
       "Fuel_Price       0.000000\n",
       "MarkDown1        0.129493\n",
       "MarkDown2       24.879198\n",
       "MarkDown3        8.542203\n",
       "MarkDown4       11.200723\n",
       "MarkDown5        0.000000\n",
       "CPI             33.165890\n",
       "Unemployment    33.165890\n",
       "IsHoliday_y      0.000000\n",
       "dtype: float64"
      ]
     },
     "execution_count": 9,
     "metadata": {},
     "output_type": "execute_result"
    },
    {
     "data": {
      "application/javascript": [
       "\n",
       "            setTimeout(function() {\n",
       "                var nbb_cell_id = 9;\n",
       "                var nbb_unformatted_code = \"test.isnull().sum() / len(test) * 100\";\n",
       "                var nbb_formatted_code = \"test.isnull().sum() / len(test) * 100\";\n",
       "                var nbb_cells = Jupyter.notebook.get_cells();\n",
       "                for (var i = 0; i < nbb_cells.length; ++i) {\n",
       "                    if (nbb_cells[i].input_prompt_number == nbb_cell_id) {\n",
       "                        if (nbb_cells[i].get_text() == nbb_unformatted_code) {\n",
       "                             nbb_cells[i].set_text(nbb_formatted_code);\n",
       "                        }\n",
       "                        break;\n",
       "                    }\n",
       "                }\n",
       "            }, 500);\n",
       "            "
      ],
      "text/plain": [
       "<IPython.core.display.Javascript object>"
      ]
     },
     "metadata": {},
     "output_type": "display_data"
    }
   ],
   "source": [
    "test.isnull().sum() / len(test) * 100"
   ]
  },
  {
   "cell_type": "code",
   "execution_count": 10,
   "id": "partial-limitation",
   "metadata": {},
   "outputs": [
    {
     "data": {
      "text/plain": [
       "Index(['Store', 'Dept', 'Date', 'Weekly_Sales', 'IsHoliday_x', 'Type', 'Size',\n",
       "       'Temperature', 'Fuel_Price', 'MarkDown1', 'MarkDown2', 'MarkDown3',\n",
       "       'MarkDown4', 'MarkDown5', 'CPI', 'Unemployment', 'IsHoliday_y'],\n",
       "      dtype='object')"
      ]
     },
     "execution_count": 10,
     "metadata": {},
     "output_type": "execute_result"
    },
    {
     "data": {
      "application/javascript": [
       "\n",
       "            setTimeout(function() {\n",
       "                var nbb_cell_id = 10;\n",
       "                var nbb_unformatted_code = \"train.columns\";\n",
       "                var nbb_formatted_code = \"train.columns\";\n",
       "                var nbb_cells = Jupyter.notebook.get_cells();\n",
       "                for (var i = 0; i < nbb_cells.length; ++i) {\n",
       "                    if (nbb_cells[i].input_prompt_number == nbb_cell_id) {\n",
       "                        if (nbb_cells[i].get_text() == nbb_unformatted_code) {\n",
       "                             nbb_cells[i].set_text(nbb_formatted_code);\n",
       "                        }\n",
       "                        break;\n",
       "                    }\n",
       "                }\n",
       "            }, 500);\n",
       "            "
      ],
      "text/plain": [
       "<IPython.core.display.Javascript object>"
      ]
     },
     "metadata": {},
     "output_type": "display_data"
    }
   ],
   "source": [
    "train.columns"
   ]
  },
  {
   "cell_type": "code",
   "execution_count": 11,
   "id": "efficient-chocolate",
   "metadata": {},
   "outputs": [
    {
     "data": {
      "application/javascript": [
       "\n",
       "            setTimeout(function() {\n",
       "                var nbb_cell_id = 11;\n",
       "                var nbb_unformatted_code = \"train.drop([\\\"IsHoliday_y\\\"], axis=1, inplace=True)\\ntest.drop([\\\"IsHoliday_y\\\"], axis=1, inplace=True)\\n\\n# rename column\\ntrain.rename(columns={\\\"IsHoliday_x\\\": \\\"IsHoliday\\\"}, inplace=True)\\ntest.rename(columns={\\\"IsHoliday_x\\\": \\\"IsHoliday\\\"}, inplace=True)\";\n",
       "                var nbb_formatted_code = \"train.drop([\\\"IsHoliday_y\\\"], axis=1, inplace=True)\\ntest.drop([\\\"IsHoliday_y\\\"], axis=1, inplace=True)\\n\\n# rename column\\ntrain.rename(columns={\\\"IsHoliday_x\\\": \\\"IsHoliday\\\"}, inplace=True)\\ntest.rename(columns={\\\"IsHoliday_x\\\": \\\"IsHoliday\\\"}, inplace=True)\";\n",
       "                var nbb_cells = Jupyter.notebook.get_cells();\n",
       "                for (var i = 0; i < nbb_cells.length; ++i) {\n",
       "                    if (nbb_cells[i].input_prompt_number == nbb_cell_id) {\n",
       "                        if (nbb_cells[i].get_text() == nbb_unformatted_code) {\n",
       "                             nbb_cells[i].set_text(nbb_formatted_code);\n",
       "                        }\n",
       "                        break;\n",
       "                    }\n",
       "                }\n",
       "            }, 500);\n",
       "            "
      ],
      "text/plain": [
       "<IPython.core.display.Javascript object>"
      ]
     },
     "metadata": {},
     "output_type": "display_data"
    }
   ],
   "source": [
    "train.drop([\"IsHoliday_y\"], axis=1, inplace=True)\n",
    "test.drop([\"IsHoliday_y\"], axis=1, inplace=True)\n",
    "\n",
    "# rename column\n",
    "train.rename(columns={\"IsHoliday_x\": \"IsHoliday\"}, inplace=True)\n",
    "test.rename(columns={\"IsHoliday_x\": \"IsHoliday\"}, inplace=True)"
   ]
  },
  {
   "cell_type": "markdown",
   "id": "considered-failure",
   "metadata": {},
   "source": [
    "## Feature Engineering"
   ]
  },
  {
   "cell_type": "code",
   "execution_count": 12,
   "id": "standing-butter",
   "metadata": {},
   "outputs": [
    {
     "data": {
      "text/html": [
       "<div>\n",
       "<style scoped>\n",
       "    .dataframe tbody tr th:only-of-type {\n",
       "        vertical-align: middle;\n",
       "    }\n",
       "\n",
       "    .dataframe tbody tr th {\n",
       "        vertical-align: top;\n",
       "    }\n",
       "\n",
       "    .dataframe thead th {\n",
       "        text-align: right;\n",
       "    }\n",
       "</style>\n",
       "<table border=\"1\" class=\"dataframe\">\n",
       "  <thead>\n",
       "    <tr style=\"text-align: right;\">\n",
       "      <th></th>\n",
       "      <th>Store</th>\n",
       "      <th>Dept</th>\n",
       "      <th>Date</th>\n",
       "      <th>Weekly_Sales</th>\n",
       "      <th>IsHoliday</th>\n",
       "      <th>Type</th>\n",
       "      <th>Size</th>\n",
       "      <th>Temperature</th>\n",
       "      <th>Fuel_Price</th>\n",
       "      <th>MarkDown1</th>\n",
       "      <th>MarkDown2</th>\n",
       "      <th>MarkDown3</th>\n",
       "      <th>MarkDown4</th>\n",
       "      <th>MarkDown5</th>\n",
       "      <th>CPI</th>\n",
       "      <th>Unemployment</th>\n",
       "    </tr>\n",
       "  </thead>\n",
       "  <tbody>\n",
       "    <tr>\n",
       "      <th>0</th>\n",
       "      <td>1</td>\n",
       "      <td>1</td>\n",
       "      <td>2010-02-05</td>\n",
       "      <td>24924.50</td>\n",
       "      <td>False</td>\n",
       "      <td>A</td>\n",
       "      <td>151315</td>\n",
       "      <td>42.31</td>\n",
       "      <td>2.572</td>\n",
       "      <td>NaN</td>\n",
       "      <td>NaN</td>\n",
       "      <td>NaN</td>\n",
       "      <td>NaN</td>\n",
       "      <td>NaN</td>\n",
       "      <td>211.096358</td>\n",
       "      <td>8.106</td>\n",
       "    </tr>\n",
       "    <tr>\n",
       "      <th>1</th>\n",
       "      <td>1</td>\n",
       "      <td>1</td>\n",
       "      <td>2010-02-12</td>\n",
       "      <td>46039.49</td>\n",
       "      <td>True</td>\n",
       "      <td>A</td>\n",
       "      <td>151315</td>\n",
       "      <td>38.51</td>\n",
       "      <td>2.548</td>\n",
       "      <td>NaN</td>\n",
       "      <td>NaN</td>\n",
       "      <td>NaN</td>\n",
       "      <td>NaN</td>\n",
       "      <td>NaN</td>\n",
       "      <td>211.242170</td>\n",
       "      <td>8.106</td>\n",
       "    </tr>\n",
       "    <tr>\n",
       "      <th>2</th>\n",
       "      <td>1</td>\n",
       "      <td>1</td>\n",
       "      <td>2010-02-19</td>\n",
       "      <td>41595.55</td>\n",
       "      <td>False</td>\n",
       "      <td>A</td>\n",
       "      <td>151315</td>\n",
       "      <td>39.93</td>\n",
       "      <td>2.514</td>\n",
       "      <td>NaN</td>\n",
       "      <td>NaN</td>\n",
       "      <td>NaN</td>\n",
       "      <td>NaN</td>\n",
       "      <td>NaN</td>\n",
       "      <td>211.289143</td>\n",
       "      <td>8.106</td>\n",
       "    </tr>\n",
       "    <tr>\n",
       "      <th>3</th>\n",
       "      <td>1</td>\n",
       "      <td>1</td>\n",
       "      <td>2010-02-26</td>\n",
       "      <td>19403.54</td>\n",
       "      <td>False</td>\n",
       "      <td>A</td>\n",
       "      <td>151315</td>\n",
       "      <td>46.63</td>\n",
       "      <td>2.561</td>\n",
       "      <td>NaN</td>\n",
       "      <td>NaN</td>\n",
       "      <td>NaN</td>\n",
       "      <td>NaN</td>\n",
       "      <td>NaN</td>\n",
       "      <td>211.319643</td>\n",
       "      <td>8.106</td>\n",
       "    </tr>\n",
       "    <tr>\n",
       "      <th>4</th>\n",
       "      <td>1</td>\n",
       "      <td>1</td>\n",
       "      <td>2010-03-05</td>\n",
       "      <td>21827.90</td>\n",
       "      <td>False</td>\n",
       "      <td>A</td>\n",
       "      <td>151315</td>\n",
       "      <td>46.50</td>\n",
       "      <td>2.625</td>\n",
       "      <td>NaN</td>\n",
       "      <td>NaN</td>\n",
       "      <td>NaN</td>\n",
       "      <td>NaN</td>\n",
       "      <td>NaN</td>\n",
       "      <td>211.350143</td>\n",
       "      <td>8.106</td>\n",
       "    </tr>\n",
       "  </tbody>\n",
       "</table>\n",
       "</div>"
      ],
      "text/plain": [
       "   Store  Dept       Date  Weekly_Sales  IsHoliday Type    Size  Temperature  \\\n",
       "0      1     1 2010-02-05      24924.50      False    A  151315        42.31   \n",
       "1      1     1 2010-02-12      46039.49       True    A  151315        38.51   \n",
       "2      1     1 2010-02-19      41595.55      False    A  151315        39.93   \n",
       "3      1     1 2010-02-26      19403.54      False    A  151315        46.63   \n",
       "4      1     1 2010-03-05      21827.90      False    A  151315        46.50   \n",
       "\n",
       "   Fuel_Price  MarkDown1  MarkDown2  MarkDown3  MarkDown4  MarkDown5  \\\n",
       "0       2.572        NaN        NaN        NaN        NaN        NaN   \n",
       "1       2.548        NaN        NaN        NaN        NaN        NaN   \n",
       "2       2.514        NaN        NaN        NaN        NaN        NaN   \n",
       "3       2.561        NaN        NaN        NaN        NaN        NaN   \n",
       "4       2.625        NaN        NaN        NaN        NaN        NaN   \n",
       "\n",
       "          CPI  Unemployment  \n",
       "0  211.096358         8.106  \n",
       "1  211.242170         8.106  \n",
       "2  211.289143         8.106  \n",
       "3  211.319643         8.106  \n",
       "4  211.350143         8.106  "
      ]
     },
     "execution_count": 12,
     "metadata": {},
     "output_type": "execute_result"
    },
    {
     "data": {
      "application/javascript": [
       "\n",
       "            setTimeout(function() {\n",
       "                var nbb_cell_id = 12;\n",
       "                var nbb_unformatted_code = \"train.head()\";\n",
       "                var nbb_formatted_code = \"train.head()\";\n",
       "                var nbb_cells = Jupyter.notebook.get_cells();\n",
       "                for (var i = 0; i < nbb_cells.length; ++i) {\n",
       "                    if (nbb_cells[i].input_prompt_number == nbb_cell_id) {\n",
       "                        if (nbb_cells[i].get_text() == nbb_unformatted_code) {\n",
       "                             nbb_cells[i].set_text(nbb_formatted_code);\n",
       "                        }\n",
       "                        break;\n",
       "                    }\n",
       "                }\n",
       "            }, 500);\n",
       "            "
      ],
      "text/plain": [
       "<IPython.core.display.Javascript object>"
      ]
     },
     "metadata": {},
     "output_type": "display_data"
    }
   ],
   "source": [
    "train.head()"
   ]
  },
  {
   "cell_type": "code",
   "execution_count": 13,
   "id": "sticky-practitioner",
   "metadata": {},
   "outputs": [
    {
     "data": {
      "text/plain": [
       "0         4\n",
       "1         4\n",
       "2         4\n",
       "3         4\n",
       "4         4\n",
       "         ..\n",
       "421565    4\n",
       "421566    4\n",
       "421567    4\n",
       "421568    4\n",
       "421569    4\n",
       "Name: Date, Length: 421570, dtype: int64"
      ]
     },
     "execution_count": 13,
     "metadata": {},
     "output_type": "execute_result"
    },
    {
     "data": {
      "application/javascript": [
       "\n",
       "            setTimeout(function() {\n",
       "                var nbb_cell_id = 13;\n",
       "                var nbb_unformatted_code = \"train[\\\"Date\\\"].dt.weekday\";\n",
       "                var nbb_formatted_code = \"train[\\\"Date\\\"].dt.weekday\";\n",
       "                var nbb_cells = Jupyter.notebook.get_cells();\n",
       "                for (var i = 0; i < nbb_cells.length; ++i) {\n",
       "                    if (nbb_cells[i].input_prompt_number == nbb_cell_id) {\n",
       "                        if (nbb_cells[i].get_text() == nbb_unformatted_code) {\n",
       "                             nbb_cells[i].set_text(nbb_formatted_code);\n",
       "                        }\n",
       "                        break;\n",
       "                    }\n",
       "                }\n",
       "            }, 500);\n",
       "            "
      ],
      "text/plain": [
       "<IPython.core.display.Javascript object>"
      ]
     },
     "metadata": {},
     "output_type": "display_data"
    }
   ],
   "source": [
    "train[\"Date\"].dt.weekday"
   ]
  },
  {
   "cell_type": "code",
   "execution_count": 14,
   "id": "medieval-apparatus",
   "metadata": {},
   "outputs": [
    {
     "name": "stderr",
     "output_type": "stream",
     "text": [
      "<ipython-input-14-827adf94b2da>:5: FutureWarning: Series.dt.weekofyear and Series.dt.week have been deprecated.  Please use Series.dt.isocalendar().week instead.\n",
      "  train[\"WeekOfYear\"] = train[\"Date\"].dt.weekofyear\n"
     ]
    },
    {
     "data": {
      "application/javascript": [
       "\n",
       "            setTimeout(function() {\n",
       "                var nbb_cell_id = 14;\n",
       "                var nbb_unformatted_code = \"## Datetime features\\ntrain[\\\"Year\\\"] = train[\\\"Date\\\"].dt.year\\ntrain[\\\"Month\\\"] = train[\\\"Date\\\"].dt.month\\ntrain[\\\"Day\\\"] = train[\\\"Date\\\"].dt.day\\ntrain[\\\"WeekOfYear\\\"] = train[\\\"Date\\\"].dt.weekofyear\\ntrain[\\\"DayOfWeek\\\"] = train[\\\"Date\\\"].dt.dayofweek\\ntrain[\\\"Weekend\\\"] = (train[\\\"Date\\\"].dt.weekday >= 5).astype(int)\";\n",
       "                var nbb_formatted_code = \"## Datetime features\\ntrain[\\\"Year\\\"] = train[\\\"Date\\\"].dt.year\\ntrain[\\\"Month\\\"] = train[\\\"Date\\\"].dt.month\\ntrain[\\\"Day\\\"] = train[\\\"Date\\\"].dt.day\\ntrain[\\\"WeekOfYear\\\"] = train[\\\"Date\\\"].dt.weekofyear\\ntrain[\\\"DayOfWeek\\\"] = train[\\\"Date\\\"].dt.dayofweek\\ntrain[\\\"Weekend\\\"] = (train[\\\"Date\\\"].dt.weekday >= 5).astype(int)\";\n",
       "                var nbb_cells = Jupyter.notebook.get_cells();\n",
       "                for (var i = 0; i < nbb_cells.length; ++i) {\n",
       "                    if (nbb_cells[i].input_prompt_number == nbb_cell_id) {\n",
       "                        if (nbb_cells[i].get_text() == nbb_unformatted_code) {\n",
       "                             nbb_cells[i].set_text(nbb_formatted_code);\n",
       "                        }\n",
       "                        break;\n",
       "                    }\n",
       "                }\n",
       "            }, 500);\n",
       "            "
      ],
      "text/plain": [
       "<IPython.core.display.Javascript object>"
      ]
     },
     "metadata": {},
     "output_type": "display_data"
    }
   ],
   "source": [
    "## Datetime features\n",
    "train[\"Year\"] = train[\"Date\"].dt.year\n",
    "train[\"Month\"] = train[\"Date\"].dt.month\n",
    "train[\"Day\"] = train[\"Date\"].dt.day\n",
    "train[\"WeekOfYear\"] = train[\"Date\"].dt.weekofyear\n",
    "train[\"DayOfWeek\"] = train[\"Date\"].dt.dayofweek\n",
    "train[\"Weekend\"] = (train[\"Date\"].dt.weekday >= 5).astype(int)"
   ]
  },
  {
   "cell_type": "code",
   "execution_count": 15,
   "id": "friendly-trouble",
   "metadata": {},
   "outputs": [
    {
     "name": "stderr",
     "output_type": "stream",
     "text": [
      "<ipython-input-15-9e957ccb6653>:4: FutureWarning: Series.dt.weekofyear and Series.dt.week have been deprecated.  Please use Series.dt.isocalendar().week instead.\n",
      "  test[\"WeekOfYear\"] = test[\"Date\"].dt.weekofyear\n"
     ]
    },
    {
     "data": {
      "application/javascript": [
       "\n",
       "            setTimeout(function() {\n",
       "                var nbb_cell_id = 15;\n",
       "                var nbb_unformatted_code = \"test[\\\"Year\\\"] = test[\\\"Date\\\"].dt.year\\ntest[\\\"Month\\\"] = test[\\\"Date\\\"].dt.month\\ntest[\\\"Day\\\"] = test[\\\"Date\\\"].dt.day\\ntest[\\\"WeekOfYear\\\"] = test[\\\"Date\\\"].dt.weekofyear\\ntest[\\\"DayOfWeek\\\"] = test[\\\"Date\\\"].dt.dayofweek\\ntest[\\\"Weekend\\\"] = (test[\\\"Date\\\"].dt.weekday >= 5).astype(int)\";\n",
       "                var nbb_formatted_code = \"test[\\\"Year\\\"] = test[\\\"Date\\\"].dt.year\\ntest[\\\"Month\\\"] = test[\\\"Date\\\"].dt.month\\ntest[\\\"Day\\\"] = test[\\\"Date\\\"].dt.day\\ntest[\\\"WeekOfYear\\\"] = test[\\\"Date\\\"].dt.weekofyear\\ntest[\\\"DayOfWeek\\\"] = test[\\\"Date\\\"].dt.dayofweek\\ntest[\\\"Weekend\\\"] = (test[\\\"Date\\\"].dt.weekday >= 5).astype(int)\";\n",
       "                var nbb_cells = Jupyter.notebook.get_cells();\n",
       "                for (var i = 0; i < nbb_cells.length; ++i) {\n",
       "                    if (nbb_cells[i].input_prompt_number == nbb_cell_id) {\n",
       "                        if (nbb_cells[i].get_text() == nbb_unformatted_code) {\n",
       "                             nbb_cells[i].set_text(nbb_formatted_code);\n",
       "                        }\n",
       "                        break;\n",
       "                    }\n",
       "                }\n",
       "            }, 500);\n",
       "            "
      ],
      "text/plain": [
       "<IPython.core.display.Javascript object>"
      ]
     },
     "metadata": {},
     "output_type": "display_data"
    }
   ],
   "source": [
    "test[\"Year\"] = test[\"Date\"].dt.year\n",
    "test[\"Month\"] = test[\"Date\"].dt.month\n",
    "test[\"Day\"] = test[\"Date\"].dt.day\n",
    "test[\"WeekOfYear\"] = test[\"Date\"].dt.weekofyear\n",
    "test[\"DayOfWeek\"] = test[\"Date\"].dt.dayofweek\n",
    "test[\"Weekend\"] = (test[\"Date\"].dt.weekday >= 5).astype(int)"
   ]
  },
  {
   "cell_type": "code",
   "execution_count": 16,
   "id": "indie-yeast",
   "metadata": {},
   "outputs": [
    {
     "data": {
      "text/html": [
       "<div>\n",
       "<style scoped>\n",
       "    .dataframe tbody tr th:only-of-type {\n",
       "        vertical-align: middle;\n",
       "    }\n",
       "\n",
       "    .dataframe tbody tr th {\n",
       "        vertical-align: top;\n",
       "    }\n",
       "\n",
       "    .dataframe thead th {\n",
       "        text-align: right;\n",
       "    }\n",
       "</style>\n",
       "<table border=\"1\" class=\"dataframe\">\n",
       "  <thead>\n",
       "    <tr style=\"text-align: right;\">\n",
       "      <th></th>\n",
       "      <th>Store</th>\n",
       "      <th>Dept</th>\n",
       "      <th>Date</th>\n",
       "      <th>Weekly_Sales</th>\n",
       "      <th>IsHoliday</th>\n",
       "      <th>Type</th>\n",
       "      <th>Size</th>\n",
       "      <th>Temperature</th>\n",
       "      <th>Fuel_Price</th>\n",
       "      <th>MarkDown1</th>\n",
       "      <th>MarkDown2</th>\n",
       "      <th>MarkDown3</th>\n",
       "      <th>MarkDown4</th>\n",
       "      <th>MarkDown5</th>\n",
       "      <th>CPI</th>\n",
       "      <th>Unemployment</th>\n",
       "      <th>Year</th>\n",
       "      <th>Month</th>\n",
       "      <th>Day</th>\n",
       "      <th>WeekOfYear</th>\n",
       "      <th>DayOfWeek</th>\n",
       "      <th>Weekend</th>\n",
       "    </tr>\n",
       "  </thead>\n",
       "  <tbody>\n",
       "    <tr>\n",
       "      <th>0</th>\n",
       "      <td>1</td>\n",
       "      <td>1</td>\n",
       "      <td>2010-02-05</td>\n",
       "      <td>24924.50</td>\n",
       "      <td>False</td>\n",
       "      <td>A</td>\n",
       "      <td>151315</td>\n",
       "      <td>42.31</td>\n",
       "      <td>2.572</td>\n",
       "      <td>NaN</td>\n",
       "      <td>NaN</td>\n",
       "      <td>NaN</td>\n",
       "      <td>NaN</td>\n",
       "      <td>NaN</td>\n",
       "      <td>211.096358</td>\n",
       "      <td>8.106</td>\n",
       "      <td>2010</td>\n",
       "      <td>2</td>\n",
       "      <td>5</td>\n",
       "      <td>5</td>\n",
       "      <td>4</td>\n",
       "      <td>0</td>\n",
       "    </tr>\n",
       "    <tr>\n",
       "      <th>1</th>\n",
       "      <td>1</td>\n",
       "      <td>1</td>\n",
       "      <td>2010-02-12</td>\n",
       "      <td>46039.49</td>\n",
       "      <td>True</td>\n",
       "      <td>A</td>\n",
       "      <td>151315</td>\n",
       "      <td>38.51</td>\n",
       "      <td>2.548</td>\n",
       "      <td>NaN</td>\n",
       "      <td>NaN</td>\n",
       "      <td>NaN</td>\n",
       "      <td>NaN</td>\n",
       "      <td>NaN</td>\n",
       "      <td>211.242170</td>\n",
       "      <td>8.106</td>\n",
       "      <td>2010</td>\n",
       "      <td>2</td>\n",
       "      <td>12</td>\n",
       "      <td>6</td>\n",
       "      <td>4</td>\n",
       "      <td>0</td>\n",
       "    </tr>\n",
       "    <tr>\n",
       "      <th>2</th>\n",
       "      <td>1</td>\n",
       "      <td>1</td>\n",
       "      <td>2010-02-19</td>\n",
       "      <td>41595.55</td>\n",
       "      <td>False</td>\n",
       "      <td>A</td>\n",
       "      <td>151315</td>\n",
       "      <td>39.93</td>\n",
       "      <td>2.514</td>\n",
       "      <td>NaN</td>\n",
       "      <td>NaN</td>\n",
       "      <td>NaN</td>\n",
       "      <td>NaN</td>\n",
       "      <td>NaN</td>\n",
       "      <td>211.289143</td>\n",
       "      <td>8.106</td>\n",
       "      <td>2010</td>\n",
       "      <td>2</td>\n",
       "      <td>19</td>\n",
       "      <td>7</td>\n",
       "      <td>4</td>\n",
       "      <td>0</td>\n",
       "    </tr>\n",
       "    <tr>\n",
       "      <th>3</th>\n",
       "      <td>1</td>\n",
       "      <td>1</td>\n",
       "      <td>2010-02-26</td>\n",
       "      <td>19403.54</td>\n",
       "      <td>False</td>\n",
       "      <td>A</td>\n",
       "      <td>151315</td>\n",
       "      <td>46.63</td>\n",
       "      <td>2.561</td>\n",
       "      <td>NaN</td>\n",
       "      <td>NaN</td>\n",
       "      <td>NaN</td>\n",
       "      <td>NaN</td>\n",
       "      <td>NaN</td>\n",
       "      <td>211.319643</td>\n",
       "      <td>8.106</td>\n",
       "      <td>2010</td>\n",
       "      <td>2</td>\n",
       "      <td>26</td>\n",
       "      <td>8</td>\n",
       "      <td>4</td>\n",
       "      <td>0</td>\n",
       "    </tr>\n",
       "    <tr>\n",
       "      <th>4</th>\n",
       "      <td>1</td>\n",
       "      <td>1</td>\n",
       "      <td>2010-03-05</td>\n",
       "      <td>21827.90</td>\n",
       "      <td>False</td>\n",
       "      <td>A</td>\n",
       "      <td>151315</td>\n",
       "      <td>46.50</td>\n",
       "      <td>2.625</td>\n",
       "      <td>NaN</td>\n",
       "      <td>NaN</td>\n",
       "      <td>NaN</td>\n",
       "      <td>NaN</td>\n",
       "      <td>NaN</td>\n",
       "      <td>211.350143</td>\n",
       "      <td>8.106</td>\n",
       "      <td>2010</td>\n",
       "      <td>3</td>\n",
       "      <td>5</td>\n",
       "      <td>9</td>\n",
       "      <td>4</td>\n",
       "      <td>0</td>\n",
       "    </tr>\n",
       "  </tbody>\n",
       "</table>\n",
       "</div>"
      ],
      "text/plain": [
       "   Store  Dept       Date  Weekly_Sales  IsHoliday Type    Size  Temperature  \\\n",
       "0      1     1 2010-02-05      24924.50      False    A  151315        42.31   \n",
       "1      1     1 2010-02-12      46039.49       True    A  151315        38.51   \n",
       "2      1     1 2010-02-19      41595.55      False    A  151315        39.93   \n",
       "3      1     1 2010-02-26      19403.54      False    A  151315        46.63   \n",
       "4      1     1 2010-03-05      21827.90      False    A  151315        46.50   \n",
       "\n",
       "   Fuel_Price  MarkDown1  MarkDown2  MarkDown3  MarkDown4  MarkDown5  \\\n",
       "0       2.572        NaN        NaN        NaN        NaN        NaN   \n",
       "1       2.548        NaN        NaN        NaN        NaN        NaN   \n",
       "2       2.514        NaN        NaN        NaN        NaN        NaN   \n",
       "3       2.561        NaN        NaN        NaN        NaN        NaN   \n",
       "4       2.625        NaN        NaN        NaN        NaN        NaN   \n",
       "\n",
       "          CPI  Unemployment  Year  Month  Day  WeekOfYear  DayOfWeek  Weekend  \n",
       "0  211.096358         8.106  2010      2    5           5          4        0  \n",
       "1  211.242170         8.106  2010      2   12           6          4        0  \n",
       "2  211.289143         8.106  2010      2   19           7          4        0  \n",
       "3  211.319643         8.106  2010      2   26           8          4        0  \n",
       "4  211.350143         8.106  2010      3    5           9          4        0  "
      ]
     },
     "execution_count": 16,
     "metadata": {},
     "output_type": "execute_result"
    },
    {
     "data": {
      "application/javascript": [
       "\n",
       "            setTimeout(function() {\n",
       "                var nbb_cell_id = 16;\n",
       "                var nbb_unformatted_code = \"train.head()\";\n",
       "                var nbb_formatted_code = \"train.head()\";\n",
       "                var nbb_cells = Jupyter.notebook.get_cells();\n",
       "                for (var i = 0; i < nbb_cells.length; ++i) {\n",
       "                    if (nbb_cells[i].input_prompt_number == nbb_cell_id) {\n",
       "                        if (nbb_cells[i].get_text() == nbb_unformatted_code) {\n",
       "                             nbb_cells[i].set_text(nbb_formatted_code);\n",
       "                        }\n",
       "                        break;\n",
       "                    }\n",
       "                }\n",
       "            }, 500);\n",
       "            "
      ],
      "text/plain": [
       "<IPython.core.display.Javascript object>"
      ]
     },
     "metadata": {},
     "output_type": "display_data"
    }
   ],
   "source": [
    "train.head()"
   ]
  },
  {
   "cell_type": "code",
   "execution_count": 17,
   "id": "opponent-georgia",
   "metadata": {},
   "outputs": [
    {
     "data": {
      "text/plain": [
       "Type\n",
       "A    182231.285486\n",
       "B    101818.735827\n",
       "C     40535.725286\n",
       "Name: Size, dtype: float64"
      ]
     },
     "execution_count": 17,
     "metadata": {},
     "output_type": "execute_result"
    },
    {
     "data": {
      "application/javascript": [
       "\n",
       "            setTimeout(function() {\n",
       "                var nbb_cell_id = 17;\n",
       "                var nbb_unformatted_code = \"train.groupby(\\\"Type\\\")[\\\"Size\\\"].mean()\";\n",
       "                var nbb_formatted_code = \"train.groupby(\\\"Type\\\")[\\\"Size\\\"].mean()\";\n",
       "                var nbb_cells = Jupyter.notebook.get_cells();\n",
       "                for (var i = 0; i < nbb_cells.length; ++i) {\n",
       "                    if (nbb_cells[i].input_prompt_number == nbb_cell_id) {\n",
       "                        if (nbb_cells[i].get_text() == nbb_unformatted_code) {\n",
       "                             nbb_cells[i].set_text(nbb_formatted_code);\n",
       "                        }\n",
       "                        break;\n",
       "                    }\n",
       "                }\n",
       "            }, 500);\n",
       "            "
      ],
      "text/plain": [
       "<IPython.core.display.Javascript object>"
      ]
     },
     "metadata": {},
     "output_type": "display_data"
    }
   ],
   "source": [
    "train.groupby(\"Type\")[\"Size\"].mean()"
   ]
  },
  {
   "cell_type": "code",
   "execution_count": 18,
   "id": "breeding-identification",
   "metadata": {},
   "outputs": [
    {
     "data": {
      "application/javascript": [
       "\n",
       "            setTimeout(function() {\n",
       "                var nbb_cell_id = 18;\n",
       "                var nbb_unformatted_code = \"# convert boolean column to categorical column\\ntrain[\\\"IsHoliday\\\"] = train[\\\"IsHoliday\\\"].map({True: \\\"Yes\\\", False: \\\"No\\\"})\\ntest[\\\"IsHoliday\\\"] = test[\\\"IsHoliday\\\"].map({True: \\\"Yes\\\", False: \\\"No\\\"})\\ntrain[\\\"IsHoliday\\\"] = train[\\\"IsHoliday\\\"].astype(\\\"category\\\")\\ntest[\\\"IsHoliday\\\"] = test[\\\"IsHoliday\\\"].astype(\\\"category\\\")\\n\\n# ordered the categorical store type col\\nfrom pandas.api.types import CategoricalDtype\\n\\ncat_type = CategoricalDtype(categories=[\\\"C\\\", \\\"B\\\", \\\"A\\\"], ordered=True)\\ntrain[\\\"Type\\\"] = train[\\\"Type\\\"].astype(cat_type)\\ntest[\\\"Type\\\"] = test[\\\"Type\\\"].astype(cat_type)\";\n",
       "                var nbb_formatted_code = \"# convert boolean column to categorical column\\ntrain[\\\"IsHoliday\\\"] = train[\\\"IsHoliday\\\"].map({True: \\\"Yes\\\", False: \\\"No\\\"})\\ntest[\\\"IsHoliday\\\"] = test[\\\"IsHoliday\\\"].map({True: \\\"Yes\\\", False: \\\"No\\\"})\\ntrain[\\\"IsHoliday\\\"] = train[\\\"IsHoliday\\\"].astype(\\\"category\\\")\\ntest[\\\"IsHoliday\\\"] = test[\\\"IsHoliday\\\"].astype(\\\"category\\\")\\n\\n# ordered the categorical store type col\\nfrom pandas.api.types import CategoricalDtype\\n\\ncat_type = CategoricalDtype(categories=[\\\"C\\\", \\\"B\\\", \\\"A\\\"], ordered=True)\\ntrain[\\\"Type\\\"] = train[\\\"Type\\\"].astype(cat_type)\\ntest[\\\"Type\\\"] = test[\\\"Type\\\"].astype(cat_type)\";\n",
       "                var nbb_cells = Jupyter.notebook.get_cells();\n",
       "                for (var i = 0; i < nbb_cells.length; ++i) {\n",
       "                    if (nbb_cells[i].input_prompt_number == nbb_cell_id) {\n",
       "                        if (nbb_cells[i].get_text() == nbb_unformatted_code) {\n",
       "                             nbb_cells[i].set_text(nbb_formatted_code);\n",
       "                        }\n",
       "                        break;\n",
       "                    }\n",
       "                }\n",
       "            }, 500);\n",
       "            "
      ],
      "text/plain": [
       "<IPython.core.display.Javascript object>"
      ]
     },
     "metadata": {},
     "output_type": "display_data"
    }
   ],
   "source": [
    "# convert boolean column to categorical column\n",
    "train[\"IsHoliday\"] = train[\"IsHoliday\"].map({True: \"Yes\", False: \"No\"})\n",
    "test[\"IsHoliday\"] = test[\"IsHoliday\"].map({True: \"Yes\", False: \"No\"})\n",
    "train[\"IsHoliday\"] = train[\"IsHoliday\"].astype(\"category\")\n",
    "test[\"IsHoliday\"] = test[\"IsHoliday\"].astype(\"category\")\n",
    "\n",
    "# ordered the categorical store type col\n",
    "from pandas.api.types import CategoricalDtype\n",
    "\n",
    "cat_type = CategoricalDtype(categories=[\"C\", \"B\", \"A\"], ordered=True)\n",
    "train[\"Type\"] = train[\"Type\"].astype(cat_type)\n",
    "test[\"Type\"] = test[\"Type\"].astype(cat_type)"
   ]
  },
  {
   "cell_type": "code",
   "execution_count": 19,
   "id": "subjective-interference",
   "metadata": {},
   "outputs": [
    {
     "data": {
      "text/plain": [
       "0         A\n",
       "1         A\n",
       "2         A\n",
       "3         A\n",
       "4         A\n",
       "         ..\n",
       "421565    B\n",
       "421566    B\n",
       "421567    B\n",
       "421568    B\n",
       "421569    B\n",
       "Name: Type, Length: 421570, dtype: category\n",
       "Categories (3, object): ['C' < 'B' < 'A']"
      ]
     },
     "execution_count": 19,
     "metadata": {},
     "output_type": "execute_result"
    },
    {
     "data": {
      "application/javascript": [
       "\n",
       "            setTimeout(function() {\n",
       "                var nbb_cell_id = 19;\n",
       "                var nbb_unformatted_code = \"train[\\\"Type\\\"]\";\n",
       "                var nbb_formatted_code = \"train[\\\"Type\\\"]\";\n",
       "                var nbb_cells = Jupyter.notebook.get_cells();\n",
       "                for (var i = 0; i < nbb_cells.length; ++i) {\n",
       "                    if (nbb_cells[i].input_prompt_number == nbb_cell_id) {\n",
       "                        if (nbb_cells[i].get_text() == nbb_unformatted_code) {\n",
       "                             nbb_cells[i].set_text(nbb_formatted_code);\n",
       "                        }\n",
       "                        break;\n",
       "                    }\n",
       "                }\n",
       "            }, 500);\n",
       "            "
      ],
      "text/plain": [
       "<IPython.core.display.Javascript object>"
      ]
     },
     "metadata": {},
     "output_type": "display_data"
    }
   ],
   "source": [
    "train[\"Type\"]"
   ]
  },
  {
   "cell_type": "code",
   "execution_count": 20,
   "id": "latest-breakdown",
   "metadata": {},
   "outputs": [
    {
     "data": {
      "text/html": [
       "<div>\n",
       "<style scoped>\n",
       "    .dataframe tbody tr th:only-of-type {\n",
       "        vertical-align: middle;\n",
       "    }\n",
       "\n",
       "    .dataframe tbody tr th {\n",
       "        vertical-align: top;\n",
       "    }\n",
       "\n",
       "    .dataframe thead th {\n",
       "        text-align: right;\n",
       "    }\n",
       "</style>\n",
       "<table border=\"1\" class=\"dataframe\">\n",
       "  <thead>\n",
       "    <tr style=\"text-align: right;\">\n",
       "      <th></th>\n",
       "      <th>Store</th>\n",
       "      <th>Dept</th>\n",
       "      <th>Date</th>\n",
       "      <th>Weekly_Sales</th>\n",
       "      <th>IsHoliday</th>\n",
       "      <th>Type</th>\n",
       "      <th>Size</th>\n",
       "      <th>Temperature</th>\n",
       "      <th>Fuel_Price</th>\n",
       "      <th>MarkDown1</th>\n",
       "      <th>MarkDown2</th>\n",
       "      <th>MarkDown3</th>\n",
       "      <th>MarkDown4</th>\n",
       "      <th>MarkDown5</th>\n",
       "      <th>CPI</th>\n",
       "      <th>Unemployment</th>\n",
       "      <th>Year</th>\n",
       "      <th>Month</th>\n",
       "      <th>Day</th>\n",
       "      <th>WeekOfYear</th>\n",
       "      <th>DayOfWeek</th>\n",
       "      <th>Weekend</th>\n",
       "    </tr>\n",
       "  </thead>\n",
       "  <tbody>\n",
       "    <tr>\n",
       "      <th>0</th>\n",
       "      <td>1</td>\n",
       "      <td>1</td>\n",
       "      <td>2010-02-05</td>\n",
       "      <td>24924.50</td>\n",
       "      <td>No</td>\n",
       "      <td>A</td>\n",
       "      <td>151315</td>\n",
       "      <td>42.31</td>\n",
       "      <td>2.572</td>\n",
       "      <td>NaN</td>\n",
       "      <td>NaN</td>\n",
       "      <td>NaN</td>\n",
       "      <td>NaN</td>\n",
       "      <td>NaN</td>\n",
       "      <td>211.096358</td>\n",
       "      <td>8.106</td>\n",
       "      <td>2010</td>\n",
       "      <td>2</td>\n",
       "      <td>5</td>\n",
       "      <td>5</td>\n",
       "      <td>4</td>\n",
       "      <td>0</td>\n",
       "    </tr>\n",
       "    <tr>\n",
       "      <th>1</th>\n",
       "      <td>1</td>\n",
       "      <td>1</td>\n",
       "      <td>2010-02-12</td>\n",
       "      <td>46039.49</td>\n",
       "      <td>Yes</td>\n",
       "      <td>A</td>\n",
       "      <td>151315</td>\n",
       "      <td>38.51</td>\n",
       "      <td>2.548</td>\n",
       "      <td>NaN</td>\n",
       "      <td>NaN</td>\n",
       "      <td>NaN</td>\n",
       "      <td>NaN</td>\n",
       "      <td>NaN</td>\n",
       "      <td>211.242170</td>\n",
       "      <td>8.106</td>\n",
       "      <td>2010</td>\n",
       "      <td>2</td>\n",
       "      <td>12</td>\n",
       "      <td>6</td>\n",
       "      <td>4</td>\n",
       "      <td>0</td>\n",
       "    </tr>\n",
       "    <tr>\n",
       "      <th>2</th>\n",
       "      <td>1</td>\n",
       "      <td>1</td>\n",
       "      <td>2010-02-19</td>\n",
       "      <td>41595.55</td>\n",
       "      <td>No</td>\n",
       "      <td>A</td>\n",
       "      <td>151315</td>\n",
       "      <td>39.93</td>\n",
       "      <td>2.514</td>\n",
       "      <td>NaN</td>\n",
       "      <td>NaN</td>\n",
       "      <td>NaN</td>\n",
       "      <td>NaN</td>\n",
       "      <td>NaN</td>\n",
       "      <td>211.289143</td>\n",
       "      <td>8.106</td>\n",
       "      <td>2010</td>\n",
       "      <td>2</td>\n",
       "      <td>19</td>\n",
       "      <td>7</td>\n",
       "      <td>4</td>\n",
       "      <td>0</td>\n",
       "    </tr>\n",
       "    <tr>\n",
       "      <th>3</th>\n",
       "      <td>1</td>\n",
       "      <td>1</td>\n",
       "      <td>2010-02-26</td>\n",
       "      <td>19403.54</td>\n",
       "      <td>No</td>\n",
       "      <td>A</td>\n",
       "      <td>151315</td>\n",
       "      <td>46.63</td>\n",
       "      <td>2.561</td>\n",
       "      <td>NaN</td>\n",
       "      <td>NaN</td>\n",
       "      <td>NaN</td>\n",
       "      <td>NaN</td>\n",
       "      <td>NaN</td>\n",
       "      <td>211.319643</td>\n",
       "      <td>8.106</td>\n",
       "      <td>2010</td>\n",
       "      <td>2</td>\n",
       "      <td>26</td>\n",
       "      <td>8</td>\n",
       "      <td>4</td>\n",
       "      <td>0</td>\n",
       "    </tr>\n",
       "    <tr>\n",
       "      <th>4</th>\n",
       "      <td>1</td>\n",
       "      <td>1</td>\n",
       "      <td>2010-03-05</td>\n",
       "      <td>21827.90</td>\n",
       "      <td>No</td>\n",
       "      <td>A</td>\n",
       "      <td>151315</td>\n",
       "      <td>46.50</td>\n",
       "      <td>2.625</td>\n",
       "      <td>NaN</td>\n",
       "      <td>NaN</td>\n",
       "      <td>NaN</td>\n",
       "      <td>NaN</td>\n",
       "      <td>NaN</td>\n",
       "      <td>211.350143</td>\n",
       "      <td>8.106</td>\n",
       "      <td>2010</td>\n",
       "      <td>3</td>\n",
       "      <td>5</td>\n",
       "      <td>9</td>\n",
       "      <td>4</td>\n",
       "      <td>0</td>\n",
       "    </tr>\n",
       "  </tbody>\n",
       "</table>\n",
       "</div>"
      ],
      "text/plain": [
       "   Store  Dept       Date  Weekly_Sales IsHoliday Type    Size  Temperature  \\\n",
       "0      1     1 2010-02-05      24924.50        No    A  151315        42.31   \n",
       "1      1     1 2010-02-12      46039.49       Yes    A  151315        38.51   \n",
       "2      1     1 2010-02-19      41595.55        No    A  151315        39.93   \n",
       "3      1     1 2010-02-26      19403.54        No    A  151315        46.63   \n",
       "4      1     1 2010-03-05      21827.90        No    A  151315        46.50   \n",
       "\n",
       "   Fuel_Price  MarkDown1  MarkDown2  MarkDown3  MarkDown4  MarkDown5  \\\n",
       "0       2.572        NaN        NaN        NaN        NaN        NaN   \n",
       "1       2.548        NaN        NaN        NaN        NaN        NaN   \n",
       "2       2.514        NaN        NaN        NaN        NaN        NaN   \n",
       "3       2.561        NaN        NaN        NaN        NaN        NaN   \n",
       "4       2.625        NaN        NaN        NaN        NaN        NaN   \n",
       "\n",
       "          CPI  Unemployment  Year  Month  Day  WeekOfYear  DayOfWeek  Weekend  \n",
       "0  211.096358         8.106  2010      2    5           5          4        0  \n",
       "1  211.242170         8.106  2010      2   12           6          4        0  \n",
       "2  211.289143         8.106  2010      2   19           7          4        0  \n",
       "3  211.319643         8.106  2010      2   26           8          4        0  \n",
       "4  211.350143         8.106  2010      3    5           9          4        0  "
      ]
     },
     "execution_count": 20,
     "metadata": {},
     "output_type": "execute_result"
    },
    {
     "data": {
      "application/javascript": [
       "\n",
       "            setTimeout(function() {\n",
       "                var nbb_cell_id = 20;\n",
       "                var nbb_unformatted_code = \"train.head()\";\n",
       "                var nbb_formatted_code = \"train.head()\";\n",
       "                var nbb_cells = Jupyter.notebook.get_cells();\n",
       "                for (var i = 0; i < nbb_cells.length; ++i) {\n",
       "                    if (nbb_cells[i].input_prompt_number == nbb_cell_id) {\n",
       "                        if (nbb_cells[i].get_text() == nbb_unformatted_code) {\n",
       "                             nbb_cells[i].set_text(nbb_formatted_code);\n",
       "                        }\n",
       "                        break;\n",
       "                    }\n",
       "                }\n",
       "            }, 500);\n",
       "            "
      ],
      "text/plain": [
       "<IPython.core.display.Javascript object>"
      ]
     },
     "metadata": {},
     "output_type": "display_data"
    }
   ],
   "source": [
    "train.head()"
   ]
  },
  {
   "cell_type": "code",
   "execution_count": 21,
   "id": "certified-israeli",
   "metadata": {},
   "outputs": [
    {
     "data": {
      "text/plain": [
       "45"
      ]
     },
     "execution_count": 21,
     "metadata": {},
     "output_type": "execute_result"
    },
    {
     "data": {
      "application/javascript": [
       "\n",
       "            setTimeout(function() {\n",
       "                var nbb_cell_id = 21;\n",
       "                var nbb_unformatted_code = \"train[\\\"Store\\\"].nunique()\";\n",
       "                var nbb_formatted_code = \"train[\\\"Store\\\"].nunique()\";\n",
       "                var nbb_cells = Jupyter.notebook.get_cells();\n",
       "                for (var i = 0; i < nbb_cells.length; ++i) {\n",
       "                    if (nbb_cells[i].input_prompt_number == nbb_cell_id) {\n",
       "                        if (nbb_cells[i].get_text() == nbb_unformatted_code) {\n",
       "                             nbb_cells[i].set_text(nbb_formatted_code);\n",
       "                        }\n",
       "                        break;\n",
       "                    }\n",
       "                }\n",
       "            }, 500);\n",
       "            "
      ],
      "text/plain": [
       "<IPython.core.display.Javascript object>"
      ]
     },
     "metadata": {},
     "output_type": "display_data"
    }
   ],
   "source": [
    "train[\"Store\"].nunique()"
   ]
  },
  {
   "cell_type": "code",
   "execution_count": 22,
   "id": "swiss-expert",
   "metadata": {},
   "outputs": [
    {
     "data": {
      "text/plain": [
       "81"
      ]
     },
     "execution_count": 22,
     "metadata": {},
     "output_type": "execute_result"
    },
    {
     "data": {
      "application/javascript": [
       "\n",
       "            setTimeout(function() {\n",
       "                var nbb_cell_id = 22;\n",
       "                var nbb_unformatted_code = \"train[\\\"Dept\\\"].nunique()\";\n",
       "                var nbb_formatted_code = \"train[\\\"Dept\\\"].nunique()\";\n",
       "                var nbb_cells = Jupyter.notebook.get_cells();\n",
       "                for (var i = 0; i < nbb_cells.length; ++i) {\n",
       "                    if (nbb_cells[i].input_prompt_number == nbb_cell_id) {\n",
       "                        if (nbb_cells[i].get_text() == nbb_unformatted_code) {\n",
       "                             nbb_cells[i].set_text(nbb_formatted_code);\n",
       "                        }\n",
       "                        break;\n",
       "                    }\n",
       "                }\n",
       "            }, 500);\n",
       "            "
      ],
      "text/plain": [
       "<IPython.core.display.Javascript object>"
      ]
     },
     "metadata": {},
     "output_type": "display_data"
    }
   ],
   "source": [
    "train[\"Dept\"].nunique()"
   ]
  },
  {
   "cell_type": "code",
   "execution_count": 23,
   "id": "noted-lodge",
   "metadata": {},
   "outputs": [
    {
     "data": {
      "application/javascript": [
       "\n",
       "            setTimeout(function() {\n",
       "                var nbb_cell_id = 23;\n",
       "                var nbb_unformatted_code = \"# convert to categorical columns\\ntrain[\\\"Store\\\"] = train[\\\"Store\\\"].astype(\\\"category\\\")\\ntrain[\\\"Dept\\\"] = train[\\\"Dept\\\"].astype(\\\"category\\\")\\ntrain[\\\"Year\\\"] = train[\\\"Year\\\"].astype(\\\"category\\\")\\ntrain[\\\"Month\\\"] = train[\\\"Month\\\"].astype(\\\"category\\\")\\ntrain[\\\"DayOfWeek\\\"] = train[\\\"DayOfWeek\\\"].astype(\\\"category\\\")\\ntrain[\\\"Weekend\\\"] = train[\\\"Weekend\\\"].astype(\\\"category\\\")\";\n",
       "                var nbb_formatted_code = \"# convert to categorical columns\\ntrain[\\\"Store\\\"] = train[\\\"Store\\\"].astype(\\\"category\\\")\\ntrain[\\\"Dept\\\"] = train[\\\"Dept\\\"].astype(\\\"category\\\")\\ntrain[\\\"Year\\\"] = train[\\\"Year\\\"].astype(\\\"category\\\")\\ntrain[\\\"Month\\\"] = train[\\\"Month\\\"].astype(\\\"category\\\")\\ntrain[\\\"DayOfWeek\\\"] = train[\\\"DayOfWeek\\\"].astype(\\\"category\\\")\\ntrain[\\\"Weekend\\\"] = train[\\\"Weekend\\\"].astype(\\\"category\\\")\";\n",
       "                var nbb_cells = Jupyter.notebook.get_cells();\n",
       "                for (var i = 0; i < nbb_cells.length; ++i) {\n",
       "                    if (nbb_cells[i].input_prompt_number == nbb_cell_id) {\n",
       "                        if (nbb_cells[i].get_text() == nbb_unformatted_code) {\n",
       "                             nbb_cells[i].set_text(nbb_formatted_code);\n",
       "                        }\n",
       "                        break;\n",
       "                    }\n",
       "                }\n",
       "            }, 500);\n",
       "            "
      ],
      "text/plain": [
       "<IPython.core.display.Javascript object>"
      ]
     },
     "metadata": {},
     "output_type": "display_data"
    }
   ],
   "source": [
    "# convert to categorical columns\n",
    "train[\"Store\"] = train[\"Store\"].astype(\"category\")\n",
    "train[\"Dept\"] = train[\"Dept\"].astype(\"category\")\n",
    "train[\"Year\"] = train[\"Year\"].astype(\"category\")\n",
    "train[\"Month\"] = train[\"Month\"].astype(\"category\")\n",
    "train[\"DayOfWeek\"] = train[\"DayOfWeek\"].astype(\"category\")\n",
    "train[\"Weekend\"] = train[\"Weekend\"].astype(\"category\")"
   ]
  },
  {
   "cell_type": "code",
   "execution_count": 24,
   "id": "moderate-hearts",
   "metadata": {},
   "outputs": [
    {
     "data": {
      "application/javascript": [
       "\n",
       "            setTimeout(function() {\n",
       "                var nbb_cell_id = 24;\n",
       "                var nbb_unformatted_code = \"# convert to categorical columns\\ntest[\\\"Store\\\"] = test[\\\"Store\\\"].astype(\\\"category\\\")\\ntest[\\\"Dept\\\"] = test[\\\"Dept\\\"].astype(\\\"category\\\")\\ntest[\\\"Year\\\"] = test[\\\"Year\\\"].astype(\\\"category\\\")\\ntest[\\\"Month\\\"] = test[\\\"Month\\\"].astype(\\\"category\\\")\\ntest[\\\"DayOfWeek\\\"] = test[\\\"DayOfWeek\\\"].astype(\\\"category\\\")\\ntest[\\\"Weekend\\\"] = test[\\\"Weekend\\\"].astype(\\\"category\\\")\";\n",
       "                var nbb_formatted_code = \"# convert to categorical columns\\ntest[\\\"Store\\\"] = test[\\\"Store\\\"].astype(\\\"category\\\")\\ntest[\\\"Dept\\\"] = test[\\\"Dept\\\"].astype(\\\"category\\\")\\ntest[\\\"Year\\\"] = test[\\\"Year\\\"].astype(\\\"category\\\")\\ntest[\\\"Month\\\"] = test[\\\"Month\\\"].astype(\\\"category\\\")\\ntest[\\\"DayOfWeek\\\"] = test[\\\"DayOfWeek\\\"].astype(\\\"category\\\")\\ntest[\\\"Weekend\\\"] = test[\\\"Weekend\\\"].astype(\\\"category\\\")\";\n",
       "                var nbb_cells = Jupyter.notebook.get_cells();\n",
       "                for (var i = 0; i < nbb_cells.length; ++i) {\n",
       "                    if (nbb_cells[i].input_prompt_number == nbb_cell_id) {\n",
       "                        if (nbb_cells[i].get_text() == nbb_unformatted_code) {\n",
       "                             nbb_cells[i].set_text(nbb_formatted_code);\n",
       "                        }\n",
       "                        break;\n",
       "                    }\n",
       "                }\n",
       "            }, 500);\n",
       "            "
      ],
      "text/plain": [
       "<IPython.core.display.Javascript object>"
      ]
     },
     "metadata": {},
     "output_type": "display_data"
    }
   ],
   "source": [
    "# convert to categorical columns\n",
    "test[\"Store\"] = test[\"Store\"].astype(\"category\")\n",
    "test[\"Dept\"] = test[\"Dept\"].astype(\"category\")\n",
    "test[\"Year\"] = test[\"Year\"].astype(\"category\")\n",
    "test[\"Month\"] = test[\"Month\"].astype(\"category\")\n",
    "test[\"DayOfWeek\"] = test[\"DayOfWeek\"].astype(\"category\")\n",
    "test[\"Weekend\"] = test[\"Weekend\"].astype(\"category\")"
   ]
  },
  {
   "cell_type": "code",
   "execution_count": 25,
   "id": "breathing-cosmetic",
   "metadata": {},
   "outputs": [
    {
     "data": {
      "text/plain": [
       "CategoricalDtype(categories=[ 1,  2,  3,  4,  5,  6,  7,  8,  9, 10, 11, 12, 13, 14, 15,\n",
       "                  16, 17, 18, 19, 20, 21, 22, 23, 24, 25, 26, 27, 28, 29, 30,\n",
       "                  31, 32, 33, 34, 35, 36, 37, 38, 39, 40, 41, 42, 43, 44, 45],\n",
       ", ordered=False)"
      ]
     },
     "execution_count": 25,
     "metadata": {},
     "output_type": "execute_result"
    },
    {
     "data": {
      "application/javascript": [
       "\n",
       "            setTimeout(function() {\n",
       "                var nbb_cell_id = 25;\n",
       "                var nbb_unformatted_code = \"train[\\\"Store\\\"].dtype\";\n",
       "                var nbb_formatted_code = \"train[\\\"Store\\\"].dtype\";\n",
       "                var nbb_cells = Jupyter.notebook.get_cells();\n",
       "                for (var i = 0; i < nbb_cells.length; ++i) {\n",
       "                    if (nbb_cells[i].input_prompt_number == nbb_cell_id) {\n",
       "                        if (nbb_cells[i].get_text() == nbb_unformatted_code) {\n",
       "                             nbb_cells[i].set_text(nbb_formatted_code);\n",
       "                        }\n",
       "                        break;\n",
       "                    }\n",
       "                }\n",
       "            }, 500);\n",
       "            "
      ],
      "text/plain": [
       "<IPython.core.display.Javascript object>"
      ]
     },
     "metadata": {},
     "output_type": "display_data"
    }
   ],
   "source": [
    "train[\"Store\"].dtype"
   ]
  },
  {
   "cell_type": "code",
   "execution_count": 26,
   "id": "demonstrated-evanescence",
   "metadata": {},
   "outputs": [
    {
     "name": "stdout",
     "output_type": "stream",
     "text": [
      "<class 'pandas.core.frame.DataFrame'>\n",
      "Int64Index: 421570 entries, 0 to 421569\n",
      "Data columns (total 22 columns):\n",
      " #   Column        Non-Null Count   Dtype         \n",
      "---  ------        --------------   -----         \n",
      " 0   Store         421570 non-null  category      \n",
      " 1   Dept          421570 non-null  category      \n",
      " 2   Date          421570 non-null  datetime64[ns]\n",
      " 3   Weekly_Sales  421570 non-null  float64       \n",
      " 4   IsHoliday     421570 non-null  category      \n",
      " 5   Type          421570 non-null  category      \n",
      " 6   Size          421570 non-null  int64         \n",
      " 7   Temperature   421570 non-null  float64       \n",
      " 8   Fuel_Price    421570 non-null  float64       \n",
      " 9   MarkDown1     150681 non-null  float64       \n",
      " 10  MarkDown2     111248 non-null  float64       \n",
      " 11  MarkDown3     137091 non-null  float64       \n",
      " 12  MarkDown4     134967 non-null  float64       \n",
      " 13  MarkDown5     151432 non-null  float64       \n",
      " 14  CPI           421570 non-null  float64       \n",
      " 15  Unemployment  421570 non-null  float64       \n",
      " 16  Year          421570 non-null  category      \n",
      " 17  Month         421570 non-null  category      \n",
      " 18  Day           421570 non-null  int64         \n",
      " 19  WeekOfYear    421570 non-null  int64         \n",
      " 20  DayOfWeek     421570 non-null  category      \n",
      " 21  Weekend       421570 non-null  category      \n",
      "dtypes: category(8), datetime64[ns](1), float64(10), int64(3)\n",
      "memory usage: 51.5 MB\n"
     ]
    },
    {
     "data": {
      "application/javascript": [
       "\n",
       "            setTimeout(function() {\n",
       "                var nbb_cell_id = 26;\n",
       "                var nbb_unformatted_code = \"train.info()\";\n",
       "                var nbb_formatted_code = \"train.info()\";\n",
       "                var nbb_cells = Jupyter.notebook.get_cells();\n",
       "                for (var i = 0; i < nbb_cells.length; ++i) {\n",
       "                    if (nbb_cells[i].input_prompt_number == nbb_cell_id) {\n",
       "                        if (nbb_cells[i].get_text() == nbb_unformatted_code) {\n",
       "                             nbb_cells[i].set_text(nbb_formatted_code);\n",
       "                        }\n",
       "                        break;\n",
       "                    }\n",
       "                }\n",
       "            }, 500);\n",
       "            "
      ],
      "text/plain": [
       "<IPython.core.display.Javascript object>"
      ]
     },
     "metadata": {},
     "output_type": "display_data"
    }
   ],
   "source": [
    "train.info()"
   ]
  },
  {
   "cell_type": "code",
   "execution_count": 27,
   "id": "solar-magazine",
   "metadata": {},
   "outputs": [
    {
     "data": {
      "application/javascript": [
       "\n",
       "            setTimeout(function() {\n",
       "                var nbb_cell_id = 27;\n",
       "                var nbb_unformatted_code = \"save_dataframe(train, \\\"cleaned_train.csv\\\")\\nsave_dataframe(test, \\\"cleaned_test.csv\\\")\";\n",
       "                var nbb_formatted_code = \"save_dataframe(train, \\\"cleaned_train.csv\\\")\\nsave_dataframe(test, \\\"cleaned_test.csv\\\")\";\n",
       "                var nbb_cells = Jupyter.notebook.get_cells();\n",
       "                for (var i = 0; i < nbb_cells.length; ++i) {\n",
       "                    if (nbb_cells[i].input_prompt_number == nbb_cell_id) {\n",
       "                        if (nbb_cells[i].get_text() == nbb_unformatted_code) {\n",
       "                             nbb_cells[i].set_text(nbb_formatted_code);\n",
       "                        }\n",
       "                        break;\n",
       "                    }\n",
       "                }\n",
       "            }, 500);\n",
       "            "
      ],
      "text/plain": [
       "<IPython.core.display.Javascript object>"
      ]
     },
     "metadata": {},
     "output_type": "display_data"
    }
   ],
   "source": [
    "save_dataframe(train, \"cleaned_train.csv\")\n",
    "save_dataframe(test, \"cleaned_test.csv\")"
   ]
  },
  {
   "cell_type": "markdown",
   "id": "indonesian-builder",
   "metadata": {},
   "source": [
    "## Data Preparation "
   ]
  },
  {
   "cell_type": "code",
   "execution_count": 28,
   "id": "brave-voluntary",
   "metadata": {},
   "outputs": [
    {
     "data": {
      "application/javascript": [
       "\n",
       "            setTimeout(function() {\n",
       "                var nbb_cell_id = 28;\n",
       "                var nbb_unformatted_code = \"from sklearn.preprocessing import StandardScaler\\nfrom sklearn.impute import SimpleImputer\\nfrom sklearn.compose import ColumnTransformer\\nfrom sklearn.pipeline import Pipeline, make_pipeline\\nfrom sklearn.preprocessing import OneHotEncoder\";\n",
       "                var nbb_formatted_code = \"from sklearn.preprocessing import StandardScaler\\nfrom sklearn.impute import SimpleImputer\\nfrom sklearn.compose import ColumnTransformer\\nfrom sklearn.pipeline import Pipeline, make_pipeline\\nfrom sklearn.preprocessing import OneHotEncoder\";\n",
       "                var nbb_cells = Jupyter.notebook.get_cells();\n",
       "                for (var i = 0; i < nbb_cells.length; ++i) {\n",
       "                    if (nbb_cells[i].input_prompt_number == nbb_cell_id) {\n",
       "                        if (nbb_cells[i].get_text() == nbb_unformatted_code) {\n",
       "                             nbb_cells[i].set_text(nbb_formatted_code);\n",
       "                        }\n",
       "                        break;\n",
       "                    }\n",
       "                }\n",
       "            }, 500);\n",
       "            "
      ],
      "text/plain": [
       "<IPython.core.display.Javascript object>"
      ]
     },
     "metadata": {},
     "output_type": "display_data"
    }
   ],
   "source": [
    "from sklearn.preprocessing import StandardScaler\n",
    "from sklearn.impute import SimpleImputer\n",
    "from sklearn.compose import ColumnTransformer\n",
    "from sklearn.pipeline import Pipeline, make_pipeline\n",
    "from sklearn.preprocessing import OneHotEncoder"
   ]
  },
  {
   "cell_type": "code",
   "execution_count": 29,
   "id": "encouraging-timber",
   "metadata": {},
   "outputs": [
    {
     "data": {
      "text/html": [
       "<div>\n",
       "<style scoped>\n",
       "    .dataframe tbody tr th:only-of-type {\n",
       "        vertical-align: middle;\n",
       "    }\n",
       "\n",
       "    .dataframe tbody tr th {\n",
       "        vertical-align: top;\n",
       "    }\n",
       "\n",
       "    .dataframe thead th {\n",
       "        text-align: right;\n",
       "    }\n",
       "</style>\n",
       "<table border=\"1\" class=\"dataframe\">\n",
       "  <thead>\n",
       "    <tr style=\"text-align: right;\">\n",
       "      <th></th>\n",
       "      <th>Store</th>\n",
       "      <th>Dept</th>\n",
       "      <th>Date</th>\n",
       "      <th>IsHoliday</th>\n",
       "      <th>Type</th>\n",
       "      <th>Size</th>\n",
       "      <th>Temperature</th>\n",
       "      <th>Fuel_Price</th>\n",
       "      <th>MarkDown1</th>\n",
       "      <th>MarkDown2</th>\n",
       "      <th>MarkDown3</th>\n",
       "      <th>MarkDown4</th>\n",
       "      <th>MarkDown5</th>\n",
       "      <th>CPI</th>\n",
       "      <th>Unemployment</th>\n",
       "      <th>Year</th>\n",
       "      <th>Month</th>\n",
       "      <th>Day</th>\n",
       "      <th>WeekOfYear</th>\n",
       "      <th>DayOfWeek</th>\n",
       "      <th>Weekend</th>\n",
       "    </tr>\n",
       "  </thead>\n",
       "  <tbody>\n",
       "    <tr>\n",
       "      <th>0</th>\n",
       "      <td>1</td>\n",
       "      <td>1</td>\n",
       "      <td>2012-11-02</td>\n",
       "      <td>No</td>\n",
       "      <td>A</td>\n",
       "      <td>151315</td>\n",
       "      <td>55.32</td>\n",
       "      <td>3.386</td>\n",
       "      <td>6766.44</td>\n",
       "      <td>5147.70</td>\n",
       "      <td>50.82</td>\n",
       "      <td>3639.90</td>\n",
       "      <td>2737.42</td>\n",
       "      <td>223.462779</td>\n",
       "      <td>6.573</td>\n",
       "      <td>2012</td>\n",
       "      <td>11</td>\n",
       "      <td>2</td>\n",
       "      <td>44</td>\n",
       "      <td>4</td>\n",
       "      <td>0</td>\n",
       "    </tr>\n",
       "    <tr>\n",
       "      <th>1</th>\n",
       "      <td>1</td>\n",
       "      <td>1</td>\n",
       "      <td>2012-11-09</td>\n",
       "      <td>No</td>\n",
       "      <td>A</td>\n",
       "      <td>151315</td>\n",
       "      <td>61.24</td>\n",
       "      <td>3.314</td>\n",
       "      <td>11421.32</td>\n",
       "      <td>3370.89</td>\n",
       "      <td>40.28</td>\n",
       "      <td>4646.79</td>\n",
       "      <td>6154.16</td>\n",
       "      <td>223.481307</td>\n",
       "      <td>6.573</td>\n",
       "      <td>2012</td>\n",
       "      <td>11</td>\n",
       "      <td>9</td>\n",
       "      <td>45</td>\n",
       "      <td>4</td>\n",
       "      <td>0</td>\n",
       "    </tr>\n",
       "    <tr>\n",
       "      <th>2</th>\n",
       "      <td>1</td>\n",
       "      <td>1</td>\n",
       "      <td>2012-11-16</td>\n",
       "      <td>No</td>\n",
       "      <td>A</td>\n",
       "      <td>151315</td>\n",
       "      <td>52.92</td>\n",
       "      <td>3.252</td>\n",
       "      <td>9696.28</td>\n",
       "      <td>292.10</td>\n",
       "      <td>103.78</td>\n",
       "      <td>1133.15</td>\n",
       "      <td>6612.69</td>\n",
       "      <td>223.512911</td>\n",
       "      <td>6.573</td>\n",
       "      <td>2012</td>\n",
       "      <td>11</td>\n",
       "      <td>16</td>\n",
       "      <td>46</td>\n",
       "      <td>4</td>\n",
       "      <td>0</td>\n",
       "    </tr>\n",
       "    <tr>\n",
       "      <th>3</th>\n",
       "      <td>1</td>\n",
       "      <td>1</td>\n",
       "      <td>2012-11-23</td>\n",
       "      <td>Yes</td>\n",
       "      <td>A</td>\n",
       "      <td>151315</td>\n",
       "      <td>56.23</td>\n",
       "      <td>3.211</td>\n",
       "      <td>883.59</td>\n",
       "      <td>4.17</td>\n",
       "      <td>74910.32</td>\n",
       "      <td>209.91</td>\n",
       "      <td>303.32</td>\n",
       "      <td>223.561947</td>\n",
       "      <td>6.573</td>\n",
       "      <td>2012</td>\n",
       "      <td>11</td>\n",
       "      <td>23</td>\n",
       "      <td>47</td>\n",
       "      <td>4</td>\n",
       "      <td>0</td>\n",
       "    </tr>\n",
       "    <tr>\n",
       "      <th>4</th>\n",
       "      <td>1</td>\n",
       "      <td>1</td>\n",
       "      <td>2012-11-30</td>\n",
       "      <td>No</td>\n",
       "      <td>A</td>\n",
       "      <td>151315</td>\n",
       "      <td>52.34</td>\n",
       "      <td>3.207</td>\n",
       "      <td>2460.03</td>\n",
       "      <td>NaN</td>\n",
       "      <td>3838.35</td>\n",
       "      <td>150.57</td>\n",
       "      <td>6966.34</td>\n",
       "      <td>223.610984</td>\n",
       "      <td>6.573</td>\n",
       "      <td>2012</td>\n",
       "      <td>11</td>\n",
       "      <td>30</td>\n",
       "      <td>48</td>\n",
       "      <td>4</td>\n",
       "      <td>0</td>\n",
       "    </tr>\n",
       "  </tbody>\n",
       "</table>\n",
       "</div>"
      ],
      "text/plain": [
       "  Store Dept       Date IsHoliday Type    Size  Temperature  Fuel_Price  \\\n",
       "0     1    1 2012-11-02        No    A  151315        55.32       3.386   \n",
       "1     1    1 2012-11-09        No    A  151315        61.24       3.314   \n",
       "2     1    1 2012-11-16        No    A  151315        52.92       3.252   \n",
       "3     1    1 2012-11-23       Yes    A  151315        56.23       3.211   \n",
       "4     1    1 2012-11-30        No    A  151315        52.34       3.207   \n",
       "\n",
       "   MarkDown1  MarkDown2  MarkDown3  MarkDown4  MarkDown5         CPI  \\\n",
       "0    6766.44    5147.70      50.82    3639.90    2737.42  223.462779   \n",
       "1   11421.32    3370.89      40.28    4646.79    6154.16  223.481307   \n",
       "2    9696.28     292.10     103.78    1133.15    6612.69  223.512911   \n",
       "3     883.59       4.17   74910.32     209.91     303.32  223.561947   \n",
       "4    2460.03        NaN    3838.35     150.57    6966.34  223.610984   \n",
       "\n",
       "   Unemployment  Year Month  Day  WeekOfYear DayOfWeek Weekend  \n",
       "0         6.573  2012    11    2          44         4       0  \n",
       "1         6.573  2012    11    9          45         4       0  \n",
       "2         6.573  2012    11   16          46         4       0  \n",
       "3         6.573  2012    11   23          47         4       0  \n",
       "4         6.573  2012    11   30          48         4       0  "
      ]
     },
     "execution_count": 29,
     "metadata": {},
     "output_type": "execute_result"
    },
    {
     "data": {
      "application/javascript": [
       "\n",
       "            setTimeout(function() {\n",
       "                var nbb_cell_id = 29;\n",
       "                var nbb_unformatted_code = \"test.head()\";\n",
       "                var nbb_formatted_code = \"test.head()\";\n",
       "                var nbb_cells = Jupyter.notebook.get_cells();\n",
       "                for (var i = 0; i < nbb_cells.length; ++i) {\n",
       "                    if (nbb_cells[i].input_prompt_number == nbb_cell_id) {\n",
       "                        if (nbb_cells[i].get_text() == nbb_unformatted_code) {\n",
       "                             nbb_cells[i].set_text(nbb_formatted_code);\n",
       "                        }\n",
       "                        break;\n",
       "                    }\n",
       "                }\n",
       "            }, 500);\n",
       "            "
      ],
      "text/plain": [
       "<IPython.core.display.Javascript object>"
      ]
     },
     "metadata": {},
     "output_type": "display_data"
    }
   ],
   "source": [
    "test.head()"
   ]
  },
  {
   "cell_type": "code",
   "execution_count": 30,
   "id": "figured-battle",
   "metadata": {},
   "outputs": [
    {
     "data": {
      "text/html": [
       "<div>\n",
       "<style scoped>\n",
       "    .dataframe tbody tr th:only-of-type {\n",
       "        vertical-align: middle;\n",
       "    }\n",
       "\n",
       "    .dataframe tbody tr th {\n",
       "        vertical-align: top;\n",
       "    }\n",
       "\n",
       "    .dataframe thead th {\n",
       "        text-align: right;\n",
       "    }\n",
       "</style>\n",
       "<table border=\"1\" class=\"dataframe\">\n",
       "  <thead>\n",
       "    <tr style=\"text-align: right;\">\n",
       "      <th></th>\n",
       "      <th>Store</th>\n",
       "      <th>Dept</th>\n",
       "      <th>Date</th>\n",
       "      <th>Weekly_Sales</th>\n",
       "      <th>IsHoliday</th>\n",
       "      <th>Type</th>\n",
       "      <th>Size</th>\n",
       "      <th>Temperature</th>\n",
       "      <th>Fuel_Price</th>\n",
       "      <th>MarkDown1</th>\n",
       "      <th>MarkDown2</th>\n",
       "      <th>MarkDown3</th>\n",
       "      <th>MarkDown4</th>\n",
       "      <th>MarkDown5</th>\n",
       "      <th>CPI</th>\n",
       "      <th>Unemployment</th>\n",
       "      <th>Year</th>\n",
       "      <th>Month</th>\n",
       "      <th>Day</th>\n",
       "      <th>WeekOfYear</th>\n",
       "      <th>DayOfWeek</th>\n",
       "      <th>Weekend</th>\n",
       "    </tr>\n",
       "  </thead>\n",
       "  <tbody>\n",
       "    <tr>\n",
       "      <th>0</th>\n",
       "      <td>1</td>\n",
       "      <td>1</td>\n",
       "      <td>2010-02-05</td>\n",
       "      <td>24924.50</td>\n",
       "      <td>No</td>\n",
       "      <td>A</td>\n",
       "      <td>151315</td>\n",
       "      <td>42.31</td>\n",
       "      <td>2.572</td>\n",
       "      <td>NaN</td>\n",
       "      <td>NaN</td>\n",
       "      <td>NaN</td>\n",
       "      <td>NaN</td>\n",
       "      <td>NaN</td>\n",
       "      <td>211.096358</td>\n",
       "      <td>8.106</td>\n",
       "      <td>2010</td>\n",
       "      <td>2</td>\n",
       "      <td>5</td>\n",
       "      <td>5</td>\n",
       "      <td>4</td>\n",
       "      <td>0</td>\n",
       "    </tr>\n",
       "    <tr>\n",
       "      <th>1</th>\n",
       "      <td>1</td>\n",
       "      <td>1</td>\n",
       "      <td>2010-02-12</td>\n",
       "      <td>46039.49</td>\n",
       "      <td>Yes</td>\n",
       "      <td>A</td>\n",
       "      <td>151315</td>\n",
       "      <td>38.51</td>\n",
       "      <td>2.548</td>\n",
       "      <td>NaN</td>\n",
       "      <td>NaN</td>\n",
       "      <td>NaN</td>\n",
       "      <td>NaN</td>\n",
       "      <td>NaN</td>\n",
       "      <td>211.242170</td>\n",
       "      <td>8.106</td>\n",
       "      <td>2010</td>\n",
       "      <td>2</td>\n",
       "      <td>12</td>\n",
       "      <td>6</td>\n",
       "      <td>4</td>\n",
       "      <td>0</td>\n",
       "    </tr>\n",
       "    <tr>\n",
       "      <th>2</th>\n",
       "      <td>1</td>\n",
       "      <td>1</td>\n",
       "      <td>2010-02-19</td>\n",
       "      <td>41595.55</td>\n",
       "      <td>No</td>\n",
       "      <td>A</td>\n",
       "      <td>151315</td>\n",
       "      <td>39.93</td>\n",
       "      <td>2.514</td>\n",
       "      <td>NaN</td>\n",
       "      <td>NaN</td>\n",
       "      <td>NaN</td>\n",
       "      <td>NaN</td>\n",
       "      <td>NaN</td>\n",
       "      <td>211.289143</td>\n",
       "      <td>8.106</td>\n",
       "      <td>2010</td>\n",
       "      <td>2</td>\n",
       "      <td>19</td>\n",
       "      <td>7</td>\n",
       "      <td>4</td>\n",
       "      <td>0</td>\n",
       "    </tr>\n",
       "    <tr>\n",
       "      <th>3</th>\n",
       "      <td>1</td>\n",
       "      <td>1</td>\n",
       "      <td>2010-02-26</td>\n",
       "      <td>19403.54</td>\n",
       "      <td>No</td>\n",
       "      <td>A</td>\n",
       "      <td>151315</td>\n",
       "      <td>46.63</td>\n",
       "      <td>2.561</td>\n",
       "      <td>NaN</td>\n",
       "      <td>NaN</td>\n",
       "      <td>NaN</td>\n",
       "      <td>NaN</td>\n",
       "      <td>NaN</td>\n",
       "      <td>211.319643</td>\n",
       "      <td>8.106</td>\n",
       "      <td>2010</td>\n",
       "      <td>2</td>\n",
       "      <td>26</td>\n",
       "      <td>8</td>\n",
       "      <td>4</td>\n",
       "      <td>0</td>\n",
       "    </tr>\n",
       "    <tr>\n",
       "      <th>4</th>\n",
       "      <td>1</td>\n",
       "      <td>1</td>\n",
       "      <td>2010-03-05</td>\n",
       "      <td>21827.90</td>\n",
       "      <td>No</td>\n",
       "      <td>A</td>\n",
       "      <td>151315</td>\n",
       "      <td>46.50</td>\n",
       "      <td>2.625</td>\n",
       "      <td>NaN</td>\n",
       "      <td>NaN</td>\n",
       "      <td>NaN</td>\n",
       "      <td>NaN</td>\n",
       "      <td>NaN</td>\n",
       "      <td>211.350143</td>\n",
       "      <td>8.106</td>\n",
       "      <td>2010</td>\n",
       "      <td>3</td>\n",
       "      <td>5</td>\n",
       "      <td>9</td>\n",
       "      <td>4</td>\n",
       "      <td>0</td>\n",
       "    </tr>\n",
       "  </tbody>\n",
       "</table>\n",
       "</div>"
      ],
      "text/plain": [
       "  Store Dept       Date  Weekly_Sales IsHoliday Type    Size  Temperature  \\\n",
       "0     1    1 2010-02-05      24924.50        No    A  151315        42.31   \n",
       "1     1    1 2010-02-12      46039.49       Yes    A  151315        38.51   \n",
       "2     1    1 2010-02-19      41595.55        No    A  151315        39.93   \n",
       "3     1    1 2010-02-26      19403.54        No    A  151315        46.63   \n",
       "4     1    1 2010-03-05      21827.90        No    A  151315        46.50   \n",
       "\n",
       "   Fuel_Price  MarkDown1  MarkDown2  MarkDown3  MarkDown4  MarkDown5  \\\n",
       "0       2.572        NaN        NaN        NaN        NaN        NaN   \n",
       "1       2.548        NaN        NaN        NaN        NaN        NaN   \n",
       "2       2.514        NaN        NaN        NaN        NaN        NaN   \n",
       "3       2.561        NaN        NaN        NaN        NaN        NaN   \n",
       "4       2.625        NaN        NaN        NaN        NaN        NaN   \n",
       "\n",
       "          CPI  Unemployment  Year Month  Day  WeekOfYear DayOfWeek Weekend  \n",
       "0  211.096358         8.106  2010     2    5           5         4       0  \n",
       "1  211.242170         8.106  2010     2   12           6         4       0  \n",
       "2  211.289143         8.106  2010     2   19           7         4       0  \n",
       "3  211.319643         8.106  2010     2   26           8         4       0  \n",
       "4  211.350143         8.106  2010     3    5           9         4       0  "
      ]
     },
     "execution_count": 30,
     "metadata": {},
     "output_type": "execute_result"
    },
    {
     "data": {
      "application/javascript": [
       "\n",
       "            setTimeout(function() {\n",
       "                var nbb_cell_id = 30;\n",
       "                var nbb_unformatted_code = \"train.head()\";\n",
       "                var nbb_formatted_code = \"train.head()\";\n",
       "                var nbb_cells = Jupyter.notebook.get_cells();\n",
       "                for (var i = 0; i < nbb_cells.length; ++i) {\n",
       "                    if (nbb_cells[i].input_prompt_number == nbb_cell_id) {\n",
       "                        if (nbb_cells[i].get_text() == nbb_unformatted_code) {\n",
       "                             nbb_cells[i].set_text(nbb_formatted_code);\n",
       "                        }\n",
       "                        break;\n",
       "                    }\n",
       "                }\n",
       "            }, 500);\n",
       "            "
      ],
      "text/plain": [
       "<IPython.core.display.Javascript object>"
      ]
     },
     "metadata": {},
     "output_type": "display_data"
    }
   ],
   "source": [
    "train.head()"
   ]
  },
  {
   "cell_type": "code",
   "execution_count": 31,
   "id": "beginning-alias",
   "metadata": {},
   "outputs": [
    {
     "data": {
      "text/plain": [
       "ColumnTransformer(transformers=[('num',\n",
       "                                 Pipeline(steps=[('simpleimputer',\n",
       "                                                  SimpleImputer(strategy='median')),\n",
       "                                                 ('standardscaler',\n",
       "                                                  StandardScaler())]),\n",
       "                                 ['Size', 'Temperature', 'Fuel_Price',\n",
       "                                  'MarkDown1', 'MarkDown2', 'MarkDown3',\n",
       "                                  'MarkDown4', 'MarkDown5', 'CPI',\n",
       "                                  'Unemployment', 'Day', 'WeekOfYear']),\n",
       "                                ('cat',\n",
       "                                 Pipeline(steps=[('simpleimputer',\n",
       "                                                  SimpleImputer(fill_value='NA',\n",
       "                                                                strategy='constant')),\n",
       "                                                 ('onehotencoder',\n",
       "                                                  OneHotEncoder(handle_unknown='ignore',\n",
       "                                                                sparse=False))]),\n",
       "                                 ['Store', 'Dept', 'IsHoliday', 'Type', 'Year',\n",
       "                                  'Month', 'DayOfWeek', 'Weekend'])])"
      ]
     },
     "execution_count": 31,
     "metadata": {},
     "output_type": "execute_result"
    },
    {
     "data": {
      "application/javascript": [
       "\n",
       "            setTimeout(function() {\n",
       "                var nbb_cell_id = 31;\n",
       "                var nbb_unformatted_code = \"# features and labels of train and test set\\n# labels of test are not provided as we need to predict them\\n\\nX_train = train.drop([\\\"Weekly_Sales\\\"], axis=1).copy()\\ny_train = train[\\\"Weekly_Sales\\\"].copy()\\n\\nX_test = test.copy()\\n\\n# drop and save the date column in a variable\\ntrain_date = X_train.pop(\\\"Date\\\")\\ntest_date = X_test.pop(\\\"Date\\\")\\n\\n\\n#### Data preparation pipeline\\n\\n# select numerical and categorical columns\\nnum_cols = X_train.select_dtypes(exclude=[\\\"object\\\", \\\"category\\\"]).columns.tolist()\\ncat_cols = X_train.select_dtypes(include=[\\\"object\\\", \\\"category\\\"]).columns.tolist()\\n\\n# numerical date preprocessing pipeline\\nnum_pipe = make_pipeline(SimpleImputer(strategy=\\\"median\\\"), StandardScaler())\\n\\n# categorical data preprocessing pipeline\\ncat_pipe = make_pipeline(\\n    SimpleImputer(strategy=\\\"constant\\\", fill_value=\\\"NA\\\"),\\n    OneHotEncoder(handle_unknown=\\\"ignore\\\", sparse=False),\\n)\\n\\n# full pipeline\\nfull_pipe = ColumnTransformer(\\n    [(\\\"num\\\", num_pipe, num_cols), (\\\"cat\\\", cat_pipe, cat_cols)]\\n)\\n\\nfull_pipe\";\n",
       "                var nbb_formatted_code = \"# features and labels of train and test set\\n# labels of test are not provided as we need to predict them\\n\\nX_train = train.drop([\\\"Weekly_Sales\\\"], axis=1).copy()\\ny_train = train[\\\"Weekly_Sales\\\"].copy()\\n\\nX_test = test.copy()\\n\\n# drop and save the date column in a variable\\ntrain_date = X_train.pop(\\\"Date\\\")\\ntest_date = X_test.pop(\\\"Date\\\")\\n\\n\\n#### Data preparation pipeline\\n\\n# select numerical and categorical columns\\nnum_cols = X_train.select_dtypes(exclude=[\\\"object\\\", \\\"category\\\"]).columns.tolist()\\ncat_cols = X_train.select_dtypes(include=[\\\"object\\\", \\\"category\\\"]).columns.tolist()\\n\\n# numerical date preprocessing pipeline\\nnum_pipe = make_pipeline(SimpleImputer(strategy=\\\"median\\\"), StandardScaler())\\n\\n# categorical data preprocessing pipeline\\ncat_pipe = make_pipeline(\\n    SimpleImputer(strategy=\\\"constant\\\", fill_value=\\\"NA\\\"),\\n    OneHotEncoder(handle_unknown=\\\"ignore\\\", sparse=False),\\n)\\n\\n# full pipeline\\nfull_pipe = ColumnTransformer(\\n    [(\\\"num\\\", num_pipe, num_cols), (\\\"cat\\\", cat_pipe, cat_cols)]\\n)\\n\\nfull_pipe\";\n",
       "                var nbb_cells = Jupyter.notebook.get_cells();\n",
       "                for (var i = 0; i < nbb_cells.length; ++i) {\n",
       "                    if (nbb_cells[i].input_prompt_number == nbb_cell_id) {\n",
       "                        if (nbb_cells[i].get_text() == nbb_unformatted_code) {\n",
       "                             nbb_cells[i].set_text(nbb_formatted_code);\n",
       "                        }\n",
       "                        break;\n",
       "                    }\n",
       "                }\n",
       "            }, 500);\n",
       "            "
      ],
      "text/plain": [
       "<IPython.core.display.Javascript object>"
      ]
     },
     "metadata": {},
     "output_type": "display_data"
    }
   ],
   "source": [
    "# features and labels of train and test set\n",
    "# labels of test are not provided as we need to predict them\n",
    "\n",
    "X_train = train.drop([\"Weekly_Sales\"], axis=1).copy()\n",
    "y_train = train[\"Weekly_Sales\"].copy()\n",
    "\n",
    "X_test = test.copy()\n",
    "\n",
    "# drop and save the date column in a variable\n",
    "train_date = X_train.pop(\"Date\")\n",
    "test_date = X_test.pop(\"Date\")\n",
    "\n",
    "\n",
    "#### Data preparation pipeline\n",
    "\n",
    "# select numerical and categorical columns\n",
    "num_cols = X_train.select_dtypes(exclude=[\"object\", \"category\"]).columns.tolist()\n",
    "cat_cols = X_train.select_dtypes(include=[\"object\", \"category\"]).columns.tolist()\n",
    "\n",
    "# numerical date preprocessing pipeline\n",
    "num_pipe = make_pipeline(SimpleImputer(strategy=\"median\"), StandardScaler())\n",
    "\n",
    "# categorical data preprocessing pipeline\n",
    "cat_pipe = make_pipeline(\n",
    "    SimpleImputer(strategy=\"constant\", fill_value=\"NA\"),\n",
    "    OneHotEncoder(handle_unknown=\"ignore\", sparse=False),\n",
    ")\n",
    "\n",
    "# full pipeline\n",
    "full_pipe = ColumnTransformer(\n",
    "    [(\"num\", num_pipe, num_cols), (\"cat\", cat_pipe, cat_cols)]\n",
    ")\n",
    "\n",
    "full_pipe"
   ]
  },
  {
   "cell_type": "markdown",
   "id": "monthly-magnitude",
   "metadata": {},
   "source": [
    "# Build Models"
   ]
  },
  {
   "cell_type": "markdown",
   "id": "human-trailer",
   "metadata": {},
   "source": [
    "## Evaluation Metric"
   ]
  },
  {
   "cell_type": "markdown",
   "id": "matched-updating",
   "metadata": {},
   "source": [
    "The evaluation metric for this task is weighted mean absolute error. But this metric is not available in scikit-learn. So, we have to create this metric using scikit-learn's `make_scorer` function. "
   ]
  },
  {
   "cell_type": "code",
   "execution_count": 32,
   "id": "indian-designer",
   "metadata": {},
   "outputs": [
    {
     "data": {
      "application/javascript": [
       "\n",
       "            setTimeout(function() {\n",
       "                var nbb_cell_id = 32;\n",
       "                var nbb_unformatted_code = \"from sklearn.metrics import make_scorer\\n\\n\\ndef WMAE(y, y_pred):\\n    weights = X_train[\\\"IsHoliday\\\"].apply(lambda x: 1 if x == 1 else 5)\\n    return np.round(np.sum(weights * abs(y - y_pred)) / (np.sum(weights)), 2)\\n\\n\\nwmae_scorer = make_scorer(WMAE, greater_is_better=False)\";\n",
       "                var nbb_formatted_code = \"from sklearn.metrics import make_scorer\\n\\n\\ndef WMAE(y, y_pred):\\n    weights = X_train[\\\"IsHoliday\\\"].apply(lambda x: 1 if x == 1 else 5)\\n    return np.round(np.sum(weights * abs(y - y_pred)) / (np.sum(weights)), 2)\\n\\n\\nwmae_scorer = make_scorer(WMAE, greater_is_better=False)\";\n",
       "                var nbb_cells = Jupyter.notebook.get_cells();\n",
       "                for (var i = 0; i < nbb_cells.length; ++i) {\n",
       "                    if (nbb_cells[i].input_prompt_number == nbb_cell_id) {\n",
       "                        if (nbb_cells[i].get_text() == nbb_unformatted_code) {\n",
       "                             nbb_cells[i].set_text(nbb_formatted_code);\n",
       "                        }\n",
       "                        break;\n",
       "                    }\n",
       "                }\n",
       "            }, 500);\n",
       "            "
      ],
      "text/plain": [
       "<IPython.core.display.Javascript object>"
      ]
     },
     "metadata": {},
     "output_type": "display_data"
    }
   ],
   "source": [
    "from sklearn.metrics import make_scorer\n",
    "\n",
    "\n",
    "def WMAE(y, y_pred):\n",
    "    weights = X_train[\"IsHoliday\"].apply(lambda x: 1 if x == 1 else 5)\n",
    "    return np.round(np.sum(weights * abs(y - y_pred)) / (np.sum(weights)), 2)\n",
    "\n",
    "\n",
    "wmae_scorer = make_scorer(WMAE, greater_is_better=False)"
   ]
  },
  {
   "cell_type": "markdown",
   "id": "southern-budget",
   "metadata": {},
   "source": [
    "## Linear Regression"
   ]
  },
  {
   "cell_type": "code",
   "execution_count": 33,
   "id": "artificial-central",
   "metadata": {},
   "outputs": [
    {
     "name": "stdout",
     "output_type": "stream",
     "text": [
      "-----------\n",
      "wmae scores: [3.57749374e+14 2.37183111e+14 5.84148343e+14 1.00052399e+15\n",
      " 5.31951867e+14]\n",
      "-----------\n",
      "Mean wmae:  542311337126711.8\n",
      "-----------\n"
     ]
    },
    {
     "data": {
      "application/javascript": [
       "\n",
       "            setTimeout(function() {\n",
       "                var nbb_cell_id = 33;\n",
       "                var nbb_unformatted_code = \"from sklearn.linear_model import LinearRegression\\nfrom sklearn.model_selection import cross_val_score\\n\\nlin_reg = make_pipeline(full_pipe, LinearRegression())\\nwmae_scores = cross_val_score(lin_reg, X_train, y_train, cv=5, scoring=wmae_scorer)\\n\\nprint(\\\"-----------\\\")\\nprint(\\\"wmae scores:\\\", -wmae_scores)\\nprint(\\\"-----------\\\")\\nprint(\\\"Mean wmae: \\\", np.mean(-wmae_scores))\\nprint(\\\"-----------\\\")\";\n",
       "                var nbb_formatted_code = \"from sklearn.linear_model import LinearRegression\\nfrom sklearn.model_selection import cross_val_score\\n\\nlin_reg = make_pipeline(full_pipe, LinearRegression())\\nwmae_scores = cross_val_score(lin_reg, X_train, y_train, cv=5, scoring=wmae_scorer)\\n\\nprint(\\\"-----------\\\")\\nprint(\\\"wmae scores:\\\", -wmae_scores)\\nprint(\\\"-----------\\\")\\nprint(\\\"Mean wmae: \\\", np.mean(-wmae_scores))\\nprint(\\\"-----------\\\")\";\n",
       "                var nbb_cells = Jupyter.notebook.get_cells();\n",
       "                for (var i = 0; i < nbb_cells.length; ++i) {\n",
       "                    if (nbb_cells[i].input_prompt_number == nbb_cell_id) {\n",
       "                        if (nbb_cells[i].get_text() == nbb_unformatted_code) {\n",
       "                             nbb_cells[i].set_text(nbb_formatted_code);\n",
       "                        }\n",
       "                        break;\n",
       "                    }\n",
       "                }\n",
       "            }, 500);\n",
       "            "
      ],
      "text/plain": [
       "<IPython.core.display.Javascript object>"
      ]
     },
     "metadata": {},
     "output_type": "display_data"
    }
   ],
   "source": [
    "from sklearn.linear_model import LinearRegression\n",
    "from sklearn.model_selection import cross_val_score\n",
    "\n",
    "lin_reg = make_pipeline(full_pipe, LinearRegression())\n",
    "wmae_scores = cross_val_score(lin_reg, X_train, y_train, cv=5, scoring=wmae_scorer)\n",
    "\n",
    "print(\"-----------\")\n",
    "print(\"wmae scores:\", -wmae_scores)\n",
    "print(\"-----------\")\n",
    "print(\"Mean wmae: \", np.mean(-wmae_scores))\n",
    "print(\"-----------\")"
   ]
  },
  {
   "cell_type": "markdown",
   "id": "overall-shirt",
   "metadata": {},
   "source": [
    "## Support Vector Machines"
   ]
  },
  {
   "cell_type": "code",
   "execution_count": 34,
   "id": "municipal-amount",
   "metadata": {},
   "outputs": [
    {
     "name": "stdout",
     "output_type": "stream",
     "text": [
      "-----------\n",
      "wmae scores: [2244.23 2541.63 2332.88 2134.71 1928.61]\n",
      "-----------\n",
      "Mean wmae:  2236.4120000000003\n",
      "-----------\n"
     ]
    },
    {
     "data": {
      "application/javascript": [
       "\n",
       "            setTimeout(function() {\n",
       "                var nbb_cell_id = 34;\n",
       "                var nbb_unformatted_code = \"from sklearn.svm import LinearSVR\\n\\nlin_svm = make_pipeline(full_pipe, LinearSVR(random_state=42))\\nwmae_scores = cross_val_score(lin_svm, X_train, y_train, cv=5, scoring=wmae_scorer)\\n\\nprint(\\\"-----------\\\")\\nprint(\\\"wmae scores:\\\", -wmae_scores)\\nprint(\\\"-----------\\\")\\nprint(\\\"Mean wmae: \\\", np.mean(-wmae_scores))\\nprint(\\\"-----------\\\")\";\n",
       "                var nbb_formatted_code = \"from sklearn.svm import LinearSVR\\n\\nlin_svm = make_pipeline(full_pipe, LinearSVR(random_state=42))\\nwmae_scores = cross_val_score(lin_svm, X_train, y_train, cv=5, scoring=wmae_scorer)\\n\\nprint(\\\"-----------\\\")\\nprint(\\\"wmae scores:\\\", -wmae_scores)\\nprint(\\\"-----------\\\")\\nprint(\\\"Mean wmae: \\\", np.mean(-wmae_scores))\\nprint(\\\"-----------\\\")\";\n",
       "                var nbb_cells = Jupyter.notebook.get_cells();\n",
       "                for (var i = 0; i < nbb_cells.length; ++i) {\n",
       "                    if (nbb_cells[i].input_prompt_number == nbb_cell_id) {\n",
       "                        if (nbb_cells[i].get_text() == nbb_unformatted_code) {\n",
       "                             nbb_cells[i].set_text(nbb_formatted_code);\n",
       "                        }\n",
       "                        break;\n",
       "                    }\n",
       "                }\n",
       "            }, 500);\n",
       "            "
      ],
      "text/plain": [
       "<IPython.core.display.Javascript object>"
      ]
     },
     "metadata": {},
     "output_type": "display_data"
    }
   ],
   "source": [
    "from sklearn.svm import LinearSVR\n",
    "\n",
    "lin_svm = make_pipeline(full_pipe, LinearSVR(random_state=42))\n",
    "wmae_scores = cross_val_score(lin_svm, X_train, y_train, cv=5, scoring=wmae_scorer)\n",
    "\n",
    "print(\"-----------\")\n",
    "print(\"wmae scores:\", -wmae_scores)\n",
    "print(\"-----------\")\n",
    "print(\"Mean wmae: \", np.mean(-wmae_scores))\n",
    "print(\"-----------\")"
   ]
  },
  {
   "cell_type": "markdown",
   "id": "extensive-bacteria",
   "metadata": {},
   "source": [
    "## Decision Trees"
   ]
  },
  {
   "cell_type": "code",
   "execution_count": 35,
   "id": "every-startup",
   "metadata": {},
   "outputs": [
    {
     "name": "stdout",
     "output_type": "stream",
     "text": [
      "-----------\n",
      "wmae scores: [1272.15 1497.17 1934.15 1432.11 1083.89]\n",
      "-----------\n",
      "Mean wmae:  1443.894\n",
      "-----------\n"
     ]
    },
    {
     "data": {
      "application/javascript": [
       "\n",
       "            setTimeout(function() {\n",
       "                var nbb_cell_id = 35;\n",
       "                var nbb_unformatted_code = \"from sklearn.tree import DecisionTreeRegressor\\n\\ndtree = make_pipeline(full_pipe, DecisionTreeRegressor(random_state=42))\\nwmae_scores = cross_val_score(dtree, X_train, y_train, cv=5, scoring=wmae_scorer)\\n\\nprint(\\\"-----------\\\")\\nprint(\\\"wmae scores:\\\", -wmae_scores)\\nprint(\\\"-----------\\\")\\nprint(\\\"Mean wmae: \\\", np.mean(-wmae_scores))\\nprint(\\\"-----------\\\")\";\n",
       "                var nbb_formatted_code = \"from sklearn.tree import DecisionTreeRegressor\\n\\ndtree = make_pipeline(full_pipe, DecisionTreeRegressor(random_state=42))\\nwmae_scores = cross_val_score(dtree, X_train, y_train, cv=5, scoring=wmae_scorer)\\n\\nprint(\\\"-----------\\\")\\nprint(\\\"wmae scores:\\\", -wmae_scores)\\nprint(\\\"-----------\\\")\\nprint(\\\"Mean wmae: \\\", np.mean(-wmae_scores))\\nprint(\\\"-----------\\\")\";\n",
       "                var nbb_cells = Jupyter.notebook.get_cells();\n",
       "                for (var i = 0; i < nbb_cells.length; ++i) {\n",
       "                    if (nbb_cells[i].input_prompt_number == nbb_cell_id) {\n",
       "                        if (nbb_cells[i].get_text() == nbb_unformatted_code) {\n",
       "                             nbb_cells[i].set_text(nbb_formatted_code);\n",
       "                        }\n",
       "                        break;\n",
       "                    }\n",
       "                }\n",
       "            }, 500);\n",
       "            "
      ],
      "text/plain": [
       "<IPython.core.display.Javascript object>"
      ]
     },
     "metadata": {},
     "output_type": "display_data"
    }
   ],
   "source": [
    "from sklearn.tree import DecisionTreeRegressor\n",
    "\n",
    "dtree = make_pipeline(full_pipe, DecisionTreeRegressor(random_state=42))\n",
    "wmae_scores = cross_val_score(dtree, X_train, y_train, cv=5, scoring=wmae_scorer)\n",
    "\n",
    "print(\"-----------\")\n",
    "print(\"wmae scores:\", -wmae_scores)\n",
    "print(\"-----------\")\n",
    "print(\"Mean wmae: \", np.mean(-wmae_scores))\n",
    "print(\"-----------\")"
   ]
  },
  {
   "cell_type": "markdown",
   "id": "boring-cooper",
   "metadata": {},
   "source": [
    "## Random Forest "
   ]
  },
  {
   "cell_type": "code",
   "execution_count": null,
   "id": "competent-thriller",
   "metadata": {},
   "outputs": [],
   "source": [
    "from sklearn.ensemble import RandomForestRegressor\n",
    "\n",
    "rf = make_pipeline(full_pipe, RandomForestRegressor(random_state=42))\n",
    "wmae_scores = cross_val_score(rf, X_train, y_train, cv=5, scoring=wmae_scorer)\n",
    "\n",
    "print(\"-----------\")\n",
    "print(\"wmae scores:\", -wmae_scores)\n",
    "print(\"-----------\")\n",
    "print(\"Mean wmae: \", np.mean(-wmae_scores))\n",
    "print(\"-----------\")"
   ]
  },
  {
   "cell_type": "markdown",
   "id": "varied-arnold",
   "metadata": {},
   "source": [
    "## XGBoost"
   ]
  },
  {
   "cell_type": "code",
   "execution_count": null,
   "id": "pointed-trick",
   "metadata": {},
   "outputs": [],
   "source": [
    "from xgboost import XGBRegressor\n",
    "\n",
    "xgb = make_pipeline(full_pipe, XGBRegressor(random_state=42))\n",
    "wmae_scores = cross_val_score(xgb, X_train, y_train, cv=5, scoring=wmae_scorer)\n",
    "\n",
    "print(\"-----------\")\n",
    "print(\"wmae scores:\", -wmae_scores)\n",
    "print(\"-----------\")\n",
    "print(\"Mean wmae: \", np.mean(-wmae_scores))\n",
    "print(\"-----------\")"
   ]
  },
  {
   "cell_type": "markdown",
   "id": "arctic-bedroom",
   "metadata": {},
   "source": [
    "We can see that the linear models aren't performing as well as tree based models.So we will focus more on random forest and xgboost moddels. For now, let's make a submission and see our score on\n",
    "kaggle leaderboard. "
   ]
  },
  {
   "cell_type": "markdown",
   "id": "indonesian-victory",
   "metadata": {},
   "source": [
    "## Submission"
   ]
  },
  {
   "cell_type": "code",
   "execution_count": null,
   "id": "charming-tournament",
   "metadata": {},
   "outputs": [],
   "source": [
    "sample_submission.head()"
   ]
  },
  {
   "cell_type": "code",
   "execution_count": null,
   "id": "suspected-twist",
   "metadata": {},
   "outputs": [],
   "source": [
    "from xgboost import XGBRegressor\n",
    "\n",
    "# train the model on whole data and make predictions\n",
    "xgb = make_pipeline(full_pipe, XGBRegressor(random_state=42))\n",
    "xgb.fit(X_train, y_train)\n",
    "xgb_y_pred = xgb.predict(X_test)"
   ]
  },
  {
   "cell_type": "code",
   "execution_count": null,
   "id": "intended-comfort",
   "metadata": {},
   "outputs": [],
   "source": [
    "sample_submission[\"Weekly_Sales\"] = xgb_y_pred"
   ]
  },
  {
   "cell_type": "code",
   "execution_count": null,
   "id": "thermal-showcase",
   "metadata": {},
   "outputs": [],
   "source": [
    "save_dataframe(sample_submission, \"xgb_default_sub.csv\")"
   ]
  },
  {
   "cell_type": "markdown",
   "id": "caring-compromise",
   "metadata": {},
   "source": [
    "The weighted mean absolute error we got on the leaderboard is much higher. It's around 5500. Let's also use the random forest model and see how this perform."
   ]
  },
  {
   "cell_type": "code",
   "execution_count": null,
   "id": "funny-bookmark",
   "metadata": {},
   "outputs": [],
   "source": [
    "from sklearn.ensemble import RandomForestRegressor\n",
    "\n",
    "rf = make_pipeline(full_pipe, RandomForestRegressor(random_state=42))\n",
    "rf.fit(X_train, y_train)\n",
    "rf_y_pred = rf.predict(X_test)\n",
    "sample_submission[\"Weekly_Sales\"] = rf_y_pred\n",
    "save_dataframe(sample_submission, \"rf_default_sub.csv\")"
   ]
  },
  {
   "cell_type": "markdown",
   "id": "genuine-supplement",
   "metadata": {},
   "source": [
    "The wmae of the random forest model is around 3400, which is far less than the xgboost model. Later we will improve \n",
    "this rf model to get better performance. "
   ]
  },
  {
   "cell_type": "code",
   "execution_count": null,
   "id": "portuguese-rwanda",
   "metadata": {},
   "outputs": [],
   "source": []
  }
 ],
 "metadata": {
  "kernelspec": {
   "display_name": "walmart_venv",
   "language": "python",
   "name": "walmart_venv"
  },
  "language_info": {
   "codemirror_mode": {
    "name": "ipython",
    "version": 3
   },
   "file_extension": ".py",
   "mimetype": "text/x-python",
   "name": "python",
   "nbconvert_exporter": "python",
   "pygments_lexer": "ipython3",
   "version": "3.8.2"
  }
 },
 "nbformat": 4,
 "nbformat_minor": 5
}
